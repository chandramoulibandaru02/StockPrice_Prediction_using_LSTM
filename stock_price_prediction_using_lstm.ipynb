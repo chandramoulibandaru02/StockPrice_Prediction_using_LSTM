{
  "nbformat": 4,
  "nbformat_minor": 0,
  "metadata": {
    "colab": {
      "provenance": []
    },
    "kernelspec": {
      "name": "python3",
      "display_name": "Python 3"
    },
    "language_info": {
      "name": "python"
    }
  },
  "cells": [
    {
      "cell_type": "code",
      "execution_count": 109,
      "metadata": {
        "id": "FgTnQnil0n14"
      },
      "outputs": [],
      "source": [
        "import pandas as pd\n",
        "import os\n",
        "import numpy as np\n",
        "import matplotlib.pyplot as plt\n",
        "import pandas_datareader as pdr\n",
        "from sklearn.preprocessing import MinMaxScaler\n",
        "from tensorflow.keras.layers import LSTM,Dense,Dropout\n",
        "from tensorflow.keras.models import Sequential\n",
        "from tensorflow.keras.callbacks import EarlyStopping,ModelCheckpoint"
      ]
    },
    {
      "cell_type": "code",
      "source": [
        "key=\"c7f4fcfc3cd45d6f28060e1332316be032847d97\""
      ],
      "metadata": {
        "id": "qXsZ7f4U6-WB"
      },
      "execution_count": 110,
      "outputs": []
    },
    {
      "cell_type": "code",
      "source": [
        "import pandas_datareader as pdr"
      ],
      "metadata": {
        "id": "LPOU9jYj6INH"
      },
      "execution_count": 111,
      "outputs": []
    },
    {
      "cell_type": "code",
      "source": [],
      "metadata": {
        "id": "SMP_O_0O8mgE"
      },
      "execution_count": null,
      "outputs": []
    },
    {
      "cell_type": "code",
      "source": [
        "df = pdr.get_data_tiingo('AAPL', api_key=key)"
      ],
      "metadata": {
        "id": "a14ZrLH86Ofq"
      },
      "execution_count": 112,
      "outputs": []
    },
    {
      "cell_type": "code",
      "source": [
        "df.to_csv('apple.csv')"
      ],
      "metadata": {
        "id": "MFexvAv069YD"
      },
      "execution_count": 113,
      "outputs": []
    },
    {
      "cell_type": "code",
      "source": [
        "df.head()"
      ],
      "metadata": {
        "colab": {
          "base_uri": "https://localhost:8080/",
          "height": 344
        },
        "id": "B6Xi16iQ-BE5",
        "outputId": "56acb0ee-8d74-4f9a-9b3d-b223867cce74"
      },
      "execution_count": 114,
      "outputs": [
        {
          "output_type": "execute_result",
          "data": {
            "text/plain": [
              "                                   close    high       low    open     volume  \\\n",
              "symbol date                                                                     \n",
              "AAPL   2020-10-30 00:00:00+00:00  108.86  111.99  107.7200  111.06  190573476   \n",
              "       2020-11-02 00:00:00+00:00  108.77  110.68  107.3200  109.11  122866899   \n",
              "       2020-11-03 00:00:00+00:00  110.44  111.49  108.7300  109.66  107624448   \n",
              "       2020-11-04 00:00:00+00:00  114.95  115.59  112.3500  114.14  138235482   \n",
              "       2020-11-05 00:00:00+00:00  119.03  119.62  116.8686  117.95  126387074   \n",
              "\n",
              "                                    adjClose     adjHigh      adjLow  \\\n",
              "symbol date                                                            \n",
              "AAPL   2020-10-30 00:00:00+00:00  105.900525  108.945433  104.791518   \n",
              "       2020-11-02 00:00:00+00:00  105.812972  107.671047  104.402392   \n",
              "       2020-11-03 00:00:00+00:00  107.437571  108.459026  105.774060   \n",
              "       2020-11-04 00:00:00+00:00  111.824962  112.447563  109.295646   \n",
              "       2020-11-05 00:00:00+00:00  115.794043  116.368003  113.691403   \n",
              "\n",
              "                                     adjOpen  adjVolume  divCash  splitFactor  \n",
              "symbol date                                                                    \n",
              "AAPL   2020-10-30 00:00:00+00:00  108.040716  190573476      0.0          1.0  \n",
              "       2020-11-02 00:00:00+00:00  106.143729  122866899      0.0          1.0  \n",
              "       2020-11-03 00:00:00+00:00  106.678777  107624448      0.0          1.0  \n",
              "       2020-11-04 00:00:00+00:00  111.036983  138235482      0.0          1.0  \n",
              "       2020-11-05 00:00:00+00:00  114.743404  126387074      0.0          1.0  "
            ],
            "text/html": [
              "\n",
              "  <div id=\"df-09779fc8-6c3f-47a6-9fe6-81109f848aa6\" class=\"colab-df-container\">\n",
              "    <div>\n",
              "<style scoped>\n",
              "    .dataframe tbody tr th:only-of-type {\n",
              "        vertical-align: middle;\n",
              "    }\n",
              "\n",
              "    .dataframe tbody tr th {\n",
              "        vertical-align: top;\n",
              "    }\n",
              "\n",
              "    .dataframe thead th {\n",
              "        text-align: right;\n",
              "    }\n",
              "</style>\n",
              "<table border=\"1\" class=\"dataframe\">\n",
              "  <thead>\n",
              "    <tr style=\"text-align: right;\">\n",
              "      <th></th>\n",
              "      <th></th>\n",
              "      <th>close</th>\n",
              "      <th>high</th>\n",
              "      <th>low</th>\n",
              "      <th>open</th>\n",
              "      <th>volume</th>\n",
              "      <th>adjClose</th>\n",
              "      <th>adjHigh</th>\n",
              "      <th>adjLow</th>\n",
              "      <th>adjOpen</th>\n",
              "      <th>adjVolume</th>\n",
              "      <th>divCash</th>\n",
              "      <th>splitFactor</th>\n",
              "    </tr>\n",
              "    <tr>\n",
              "      <th>symbol</th>\n",
              "      <th>date</th>\n",
              "      <th></th>\n",
              "      <th></th>\n",
              "      <th></th>\n",
              "      <th></th>\n",
              "      <th></th>\n",
              "      <th></th>\n",
              "      <th></th>\n",
              "      <th></th>\n",
              "      <th></th>\n",
              "      <th></th>\n",
              "      <th></th>\n",
              "      <th></th>\n",
              "    </tr>\n",
              "  </thead>\n",
              "  <tbody>\n",
              "    <tr>\n",
              "      <th rowspan=\"5\" valign=\"top\">AAPL</th>\n",
              "      <th>2020-10-30 00:00:00+00:00</th>\n",
              "      <td>108.86</td>\n",
              "      <td>111.99</td>\n",
              "      <td>107.7200</td>\n",
              "      <td>111.06</td>\n",
              "      <td>190573476</td>\n",
              "      <td>105.900525</td>\n",
              "      <td>108.945433</td>\n",
              "      <td>104.791518</td>\n",
              "      <td>108.040716</td>\n",
              "      <td>190573476</td>\n",
              "      <td>0.0</td>\n",
              "      <td>1.0</td>\n",
              "    </tr>\n",
              "    <tr>\n",
              "      <th>2020-11-02 00:00:00+00:00</th>\n",
              "      <td>108.77</td>\n",
              "      <td>110.68</td>\n",
              "      <td>107.3200</td>\n",
              "      <td>109.11</td>\n",
              "      <td>122866899</td>\n",
              "      <td>105.812972</td>\n",
              "      <td>107.671047</td>\n",
              "      <td>104.402392</td>\n",
              "      <td>106.143729</td>\n",
              "      <td>122866899</td>\n",
              "      <td>0.0</td>\n",
              "      <td>1.0</td>\n",
              "    </tr>\n",
              "    <tr>\n",
              "      <th>2020-11-03 00:00:00+00:00</th>\n",
              "      <td>110.44</td>\n",
              "      <td>111.49</td>\n",
              "      <td>108.7300</td>\n",
              "      <td>109.66</td>\n",
              "      <td>107624448</td>\n",
              "      <td>107.437571</td>\n",
              "      <td>108.459026</td>\n",
              "      <td>105.774060</td>\n",
              "      <td>106.678777</td>\n",
              "      <td>107624448</td>\n",
              "      <td>0.0</td>\n",
              "      <td>1.0</td>\n",
              "    </tr>\n",
              "    <tr>\n",
              "      <th>2020-11-04 00:00:00+00:00</th>\n",
              "      <td>114.95</td>\n",
              "      <td>115.59</td>\n",
              "      <td>112.3500</td>\n",
              "      <td>114.14</td>\n",
              "      <td>138235482</td>\n",
              "      <td>111.824962</td>\n",
              "      <td>112.447563</td>\n",
              "      <td>109.295646</td>\n",
              "      <td>111.036983</td>\n",
              "      <td>138235482</td>\n",
              "      <td>0.0</td>\n",
              "      <td>1.0</td>\n",
              "    </tr>\n",
              "    <tr>\n",
              "      <th>2020-11-05 00:00:00+00:00</th>\n",
              "      <td>119.03</td>\n",
              "      <td>119.62</td>\n",
              "      <td>116.8686</td>\n",
              "      <td>117.95</td>\n",
              "      <td>126387074</td>\n",
              "      <td>115.794043</td>\n",
              "      <td>116.368003</td>\n",
              "      <td>113.691403</td>\n",
              "      <td>114.743404</td>\n",
              "      <td>126387074</td>\n",
              "      <td>0.0</td>\n",
              "      <td>1.0</td>\n",
              "    </tr>\n",
              "  </tbody>\n",
              "</table>\n",
              "</div>\n",
              "    <div class=\"colab-df-buttons\">\n",
              "\n",
              "  <div class=\"colab-df-container\">\n",
              "    <button class=\"colab-df-convert\" onclick=\"convertToInteractive('df-09779fc8-6c3f-47a6-9fe6-81109f848aa6')\"\n",
              "            title=\"Convert this dataframe to an interactive table.\"\n",
              "            style=\"display:none;\">\n",
              "\n",
              "  <svg xmlns=\"http://www.w3.org/2000/svg\" height=\"24px\" viewBox=\"0 -960 960 960\">\n",
              "    <path d=\"M120-120v-720h720v720H120Zm60-500h600v-160H180v160Zm220 220h160v-160H400v160Zm0 220h160v-160H400v160ZM180-400h160v-160H180v160Zm440 0h160v-160H620v160ZM180-180h160v-160H180v160Zm440 0h160v-160H620v160Z\"/>\n",
              "  </svg>\n",
              "    </button>\n",
              "\n",
              "  <style>\n",
              "    .colab-df-container {\n",
              "      display:flex;\n",
              "      gap: 12px;\n",
              "    }\n",
              "\n",
              "    .colab-df-convert {\n",
              "      background-color: #E8F0FE;\n",
              "      border: none;\n",
              "      border-radius: 50%;\n",
              "      cursor: pointer;\n",
              "      display: none;\n",
              "      fill: #1967D2;\n",
              "      height: 32px;\n",
              "      padding: 0 0 0 0;\n",
              "      width: 32px;\n",
              "    }\n",
              "\n",
              "    .colab-df-convert:hover {\n",
              "      background-color: #E2EBFA;\n",
              "      box-shadow: 0px 1px 2px rgba(60, 64, 67, 0.3), 0px 1px 3px 1px rgba(60, 64, 67, 0.15);\n",
              "      fill: #174EA6;\n",
              "    }\n",
              "\n",
              "    .colab-df-buttons div {\n",
              "      margin-bottom: 4px;\n",
              "    }\n",
              "\n",
              "    [theme=dark] .colab-df-convert {\n",
              "      background-color: #3B4455;\n",
              "      fill: #D2E3FC;\n",
              "    }\n",
              "\n",
              "    [theme=dark] .colab-df-convert:hover {\n",
              "      background-color: #434B5C;\n",
              "      box-shadow: 0px 1px 3px 1px rgba(0, 0, 0, 0.15);\n",
              "      filter: drop-shadow(0px 1px 2px rgba(0, 0, 0, 0.3));\n",
              "      fill: #FFFFFF;\n",
              "    }\n",
              "  </style>\n",
              "\n",
              "    <script>\n",
              "      const buttonEl =\n",
              "        document.querySelector('#df-09779fc8-6c3f-47a6-9fe6-81109f848aa6 button.colab-df-convert');\n",
              "      buttonEl.style.display =\n",
              "        google.colab.kernel.accessAllowed ? 'block' : 'none';\n",
              "\n",
              "      async function convertToInteractive(key) {\n",
              "        const element = document.querySelector('#df-09779fc8-6c3f-47a6-9fe6-81109f848aa6');\n",
              "        const dataTable =\n",
              "          await google.colab.kernel.invokeFunction('convertToInteractive',\n",
              "                                                    [key], {});\n",
              "        if (!dataTable) return;\n",
              "\n",
              "        const docLinkHtml = 'Like what you see? Visit the ' +\n",
              "          '<a target=\"_blank\" href=https://colab.research.google.com/notebooks/data_table.ipynb>data table notebook</a>'\n",
              "          + ' to learn more about interactive tables.';\n",
              "        element.innerHTML = '';\n",
              "        dataTable['output_type'] = 'display_data';\n",
              "        await google.colab.output.renderOutput(dataTable, element);\n",
              "        const docLink = document.createElement('div');\n",
              "        docLink.innerHTML = docLinkHtml;\n",
              "        element.appendChild(docLink);\n",
              "      }\n",
              "    </script>\n",
              "  </div>\n",
              "\n",
              "\n",
              "    <div id=\"df-6be0d7f8-d3ce-420f-b0f5-db83594f1c30\">\n",
              "      <button class=\"colab-df-quickchart\" onclick=\"quickchart('df-6be0d7f8-d3ce-420f-b0f5-db83594f1c30')\"\n",
              "                title=\"Suggest charts\"\n",
              "                style=\"display:none;\">\n",
              "\n",
              "<svg xmlns=\"http://www.w3.org/2000/svg\" height=\"24px\"viewBox=\"0 0 24 24\"\n",
              "     width=\"24px\">\n",
              "    <g>\n",
              "        <path d=\"M19 3H5c-1.1 0-2 .9-2 2v14c0 1.1.9 2 2 2h14c1.1 0 2-.9 2-2V5c0-1.1-.9-2-2-2zM9 17H7v-7h2v7zm4 0h-2V7h2v10zm4 0h-2v-4h2v4z\"/>\n",
              "    </g>\n",
              "</svg>\n",
              "      </button>\n",
              "\n",
              "<style>\n",
              "  .colab-df-quickchart {\n",
              "      --bg-color: #E8F0FE;\n",
              "      --fill-color: #1967D2;\n",
              "      --hover-bg-color: #E2EBFA;\n",
              "      --hover-fill-color: #174EA6;\n",
              "      --disabled-fill-color: #AAA;\n",
              "      --disabled-bg-color: #DDD;\n",
              "  }\n",
              "\n",
              "  [theme=dark] .colab-df-quickchart {\n",
              "      --bg-color: #3B4455;\n",
              "      --fill-color: #D2E3FC;\n",
              "      --hover-bg-color: #434B5C;\n",
              "      --hover-fill-color: #FFFFFF;\n",
              "      --disabled-bg-color: #3B4455;\n",
              "      --disabled-fill-color: #666;\n",
              "  }\n",
              "\n",
              "  .colab-df-quickchart {\n",
              "    background-color: var(--bg-color);\n",
              "    border: none;\n",
              "    border-radius: 50%;\n",
              "    cursor: pointer;\n",
              "    display: none;\n",
              "    fill: var(--fill-color);\n",
              "    height: 32px;\n",
              "    padding: 0;\n",
              "    width: 32px;\n",
              "  }\n",
              "\n",
              "  .colab-df-quickchart:hover {\n",
              "    background-color: var(--hover-bg-color);\n",
              "    box-shadow: 0 1px 2px rgba(60, 64, 67, 0.3), 0 1px 3px 1px rgba(60, 64, 67, 0.15);\n",
              "    fill: var(--button-hover-fill-color);\n",
              "  }\n",
              "\n",
              "  .colab-df-quickchart-complete:disabled,\n",
              "  .colab-df-quickchart-complete:disabled:hover {\n",
              "    background-color: var(--disabled-bg-color);\n",
              "    fill: var(--disabled-fill-color);\n",
              "    box-shadow: none;\n",
              "  }\n",
              "\n",
              "  .colab-df-spinner {\n",
              "    border: 2px solid var(--fill-color);\n",
              "    border-color: transparent;\n",
              "    border-bottom-color: var(--fill-color);\n",
              "    animation:\n",
              "      spin 1s steps(1) infinite;\n",
              "  }\n",
              "\n",
              "  @keyframes spin {\n",
              "    0% {\n",
              "      border-color: transparent;\n",
              "      border-bottom-color: var(--fill-color);\n",
              "      border-left-color: var(--fill-color);\n",
              "    }\n",
              "    20% {\n",
              "      border-color: transparent;\n",
              "      border-left-color: var(--fill-color);\n",
              "      border-top-color: var(--fill-color);\n",
              "    }\n",
              "    30% {\n",
              "      border-color: transparent;\n",
              "      border-left-color: var(--fill-color);\n",
              "      border-top-color: var(--fill-color);\n",
              "      border-right-color: var(--fill-color);\n",
              "    }\n",
              "    40% {\n",
              "      border-color: transparent;\n",
              "      border-right-color: var(--fill-color);\n",
              "      border-top-color: var(--fill-color);\n",
              "    }\n",
              "    60% {\n",
              "      border-color: transparent;\n",
              "      border-right-color: var(--fill-color);\n",
              "    }\n",
              "    80% {\n",
              "      border-color: transparent;\n",
              "      border-right-color: var(--fill-color);\n",
              "      border-bottom-color: var(--fill-color);\n",
              "    }\n",
              "    90% {\n",
              "      border-color: transparent;\n",
              "      border-bottom-color: var(--fill-color);\n",
              "    }\n",
              "  }\n",
              "</style>\n",
              "\n",
              "      <script>\n",
              "        async function quickchart(key) {\n",
              "          const quickchartButtonEl =\n",
              "            document.querySelector('#' + key + ' button');\n",
              "          quickchartButtonEl.disabled = true;  // To prevent multiple clicks.\n",
              "          quickchartButtonEl.classList.add('colab-df-spinner');\n",
              "          try {\n",
              "            const charts = await google.colab.kernel.invokeFunction(\n",
              "                'suggestCharts', [key], {});\n",
              "          } catch (error) {\n",
              "            console.error('Error during call to suggestCharts:', error);\n",
              "          }\n",
              "          quickchartButtonEl.classList.remove('colab-df-spinner');\n",
              "          quickchartButtonEl.classList.add('colab-df-quickchart-complete');\n",
              "        }\n",
              "        (() => {\n",
              "          let quickchartButtonEl =\n",
              "            document.querySelector('#df-6be0d7f8-d3ce-420f-b0f5-db83594f1c30 button');\n",
              "          quickchartButtonEl.style.display =\n",
              "            google.colab.kernel.accessAllowed ? 'block' : 'none';\n",
              "        })();\n",
              "      </script>\n",
              "    </div>\n",
              "\n",
              "    </div>\n",
              "  </div>\n"
            ],
            "application/vnd.google.colaboratory.intrinsic+json": {
              "type": "dataframe",
              "variable_name": "df",
              "summary": "{\n  \"name\": \"df\",\n  \"rows\": 1254,\n  \"fields\": [\n    {\n      \"column\": \"close\",\n      \"properties\": {\n        \"dtype\": \"number\",\n        \"std\": 36.5532467693225,\n        \"min\": 108.77,\n        \"max\": 269.0,\n        \"num_unique_values\": 1181,\n        \"samples\": [\n          172.28,\n          226.96,\n          188.38\n        ],\n        \"semantic_type\": \"\",\n        \"description\": \"\"\n      }\n    },\n    {\n      \"column\": \"high\",\n      \"properties\": {\n        \"dtype\": \"number\",\n        \"std\": 36.737536542314935,\n        \"min\": 110.68,\n        \"max\": 269.89,\n        \"num_unique_values\": 1206,\n        \"samples\": [\n          123.52,\n          161.02,\n          195.75\n        ],\n        \"semantic_type\": \"\",\n        \"description\": \"\"\n      }\n    },\n    {\n      \"column\": \"low\",\n      \"properties\": {\n        \"dtype\": \"number\",\n        \"std\": 36.26745429125963,\n        \"min\": 107.32,\n        \"max\": 268.15,\n        \"num_unique_values\": 1213,\n        \"samples\": [\n          139.9,\n          189.58,\n          128.43\n        ],\n        \"semantic_type\": \"\",\n        \"description\": \"\"\n      }\n    },\n    {\n      \"column\": \"open\",\n      \"properties\": {\n        \"dtype\": \"number\",\n        \"std\": 36.483752009621305,\n        \"min\": 109.11,\n        \"max\": 268.985,\n        \"num_unique_values\": 1193,\n        \"samples\": [\n          165.19,\n          177.06,\n          171.52\n        ],\n        \"semantic_type\": \"\",\n        \"description\": \"\"\n      }\n    },\n    {\n      \"column\": \"volume\",\n      \"properties\": {\n        \"dtype\": \"number\",\n        \"std\": 30800498,\n        \"min\": 23234705,\n        \"max\": 318679888,\n        \"num_unique_values\": 1254,\n        \"samples\": [\n          41534759,\n          80819203,\n          90221755\n        ],\n        \"semantic_type\": \"\",\n        \"description\": \"\"\n      }\n    },\n    {\n      \"column\": \"adjClose\",\n      \"properties\": {\n        \"dtype\": \"number\",\n        \"std\": 37.38322662215069,\n        \"min\": 105.812972212,\n        \"max\": 269.0,\n        \"num_unique_values\": 1237,\n        \"samples\": [\n          163.2951866011,\n          145.1546224153,\n          182.0847228612\n        ],\n        \"semantic_type\": \"\",\n        \"description\": \"\"\n      }\n    },\n    {\n      \"column\": \"adjHigh\",\n      \"properties\": {\n        \"dtype\": \"number\",\n        \"std\": 37.57946025504852,\n        \"min\": 107.6710468366,\n        \"max\": 269.89,\n        \"num_unique_values\": 1245,\n        \"samples\": [\n          178.1236528435,\n          163.2587361193,\n          210.9979654326\n        ],\n        \"semantic_type\": \"\",\n        \"description\": \"\"\n      }\n    },\n    {\n      \"column\": \"adjLow\",\n      \"properties\": {\n        \"dtype\": \"number\",\n        \"std\": 37.085927575361104,\n        \"min\": 104.4023919995,\n        \"max\": 268.15,\n        \"num_unique_values\": 1246,\n        \"samples\": [\n          175.8952501807,\n          164.3220543861,\n          202.3176188736\n        ],\n        \"semantic_type\": \"\",\n        \"description\": \"\"\n      }\n    },\n    {\n      \"column\": \"adjOpen\",\n      \"properties\": {\n        \"dtype\": \"number\",\n        \"std\": 37.3130057129576,\n        \"min\": 106.1437289514,\n        \"max\": 268.985,\n        \"num_unique_values\": 1237,\n        \"samples\": [\n          163.1569096633,\n          142.6666205696,\n          181.0659698584\n        ],\n        \"semantic_type\": \"\",\n        \"description\": \"\"\n      }\n    },\n    {\n      \"column\": \"adjVolume\",\n      \"properties\": {\n        \"dtype\": \"number\",\n        \"std\": 30800498,\n        \"min\": 23234705,\n        \"max\": 318679888,\n        \"num_unique_values\": 1254,\n        \"samples\": [\n          41534759,\n          80819203,\n          90221755\n        ],\n        \"semantic_type\": \"\",\n        \"description\": \"\"\n      }\n    },\n    {\n      \"column\": \"divCash\",\n      \"properties\": {\n        \"dtype\": \"number\",\n        \"std\": 0.029457847254734302,\n        \"min\": 0.0,\n        \"max\": 0.26,\n        \"num_unique_values\": 7,\n        \"samples\": [\n          0.0,\n          0.205,\n          0.25\n        ],\n        \"semantic_type\": \"\",\n        \"description\": \"\"\n      }\n    },\n    {\n      \"column\": \"splitFactor\",\n      \"properties\": {\n        \"dtype\": \"number\",\n        \"std\": 0.0,\n        \"min\": 1.0,\n        \"max\": 1.0,\n        \"num_unique_values\": 1,\n        \"samples\": [\n          1.0\n        ],\n        \"semantic_type\": \"\",\n        \"description\": \"\"\n      }\n    }\n  ]\n}"
            }
          },
          "metadata": {},
          "execution_count": 114
        }
      ]
    },
    {
      "cell_type": "code",
      "source": [
        "df.describe()"
      ],
      "metadata": {
        "colab": {
          "base_uri": "https://localhost:8080/",
          "height": 320
        },
        "id": "kSqYQ-gb-Fkx",
        "outputId": "953b11e9-6d1b-4728-c391-8bf3b321c9c0"
      },
      "execution_count": 115,
      "outputs": [
        {
          "output_type": "execute_result",
          "data": {
            "text/plain": [
              "             close         high          low         open        volume  \\\n",
              "count  1254.000000  1254.000000  1254.000000  1254.000000  1.254000e+03   \n",
              "mean    176.236248   177.984338   174.298102   176.055708  7.193728e+07   \n",
              "std      36.553247    36.737537    36.267454    36.483752  3.080050e+07   \n",
              "min     108.770000   110.680000   107.320000   109.110000  2.323470e+07   \n",
              "25%     146.840000   148.517225   145.522500   146.862500  4.941528e+07   \n",
              "50%     172.155000   173.615000   170.465050   171.755000  6.516156e+07   \n",
              "75%     201.487500   203.800000   199.875000   201.797500  8.744616e+07   \n",
              "max     269.000000   269.890000   268.150000   268.985000  3.186799e+08   \n",
              "\n",
              "          adjClose      adjHigh       adjLow      adjOpen     adjVolume  \\\n",
              "count  1254.000000  1254.000000  1254.000000  1254.000000  1.254000e+03   \n",
              "mean    174.329055   176.057403   172.412539   174.150169  7.193728e+07   \n",
              "std      37.383227    37.579460    37.085928    37.313006  3.080050e+07   \n",
              "min     105.812972   107.671047   104.402392   106.143729  2.323470e+07   \n",
              "25%     144.073330   145.654623   142.595122   144.012443  4.941528e+07   \n",
              "50%     169.649576   171.402433   168.400763   169.483139  6.516156e+07   \n",
              "75%     201.257168   203.567024   199.621540   201.389848  8.744616e+07   \n",
              "max     269.000000   269.890000   268.150000   268.985000  3.186799e+08   \n",
              "\n",
              "           divCash  splitFactor  \n",
              "count  1254.000000       1254.0  \n",
              "mean      0.003740          1.0  \n",
              "std       0.029458          0.0  \n",
              "min       0.000000          1.0  \n",
              "25%       0.000000          1.0  \n",
              "50%       0.000000          1.0  \n",
              "75%       0.000000          1.0  \n",
              "max       0.260000          1.0  "
            ],
            "text/html": [
              "\n",
              "  <div id=\"df-87ea5133-a1a7-4dbb-ab6c-814bc3000478\" class=\"colab-df-container\">\n",
              "    <div>\n",
              "<style scoped>\n",
              "    .dataframe tbody tr th:only-of-type {\n",
              "        vertical-align: middle;\n",
              "    }\n",
              "\n",
              "    .dataframe tbody tr th {\n",
              "        vertical-align: top;\n",
              "    }\n",
              "\n",
              "    .dataframe thead th {\n",
              "        text-align: right;\n",
              "    }\n",
              "</style>\n",
              "<table border=\"1\" class=\"dataframe\">\n",
              "  <thead>\n",
              "    <tr style=\"text-align: right;\">\n",
              "      <th></th>\n",
              "      <th>close</th>\n",
              "      <th>high</th>\n",
              "      <th>low</th>\n",
              "      <th>open</th>\n",
              "      <th>volume</th>\n",
              "      <th>adjClose</th>\n",
              "      <th>adjHigh</th>\n",
              "      <th>adjLow</th>\n",
              "      <th>adjOpen</th>\n",
              "      <th>adjVolume</th>\n",
              "      <th>divCash</th>\n",
              "      <th>splitFactor</th>\n",
              "    </tr>\n",
              "  </thead>\n",
              "  <tbody>\n",
              "    <tr>\n",
              "      <th>count</th>\n",
              "      <td>1254.000000</td>\n",
              "      <td>1254.000000</td>\n",
              "      <td>1254.000000</td>\n",
              "      <td>1254.000000</td>\n",
              "      <td>1.254000e+03</td>\n",
              "      <td>1254.000000</td>\n",
              "      <td>1254.000000</td>\n",
              "      <td>1254.000000</td>\n",
              "      <td>1254.000000</td>\n",
              "      <td>1.254000e+03</td>\n",
              "      <td>1254.000000</td>\n",
              "      <td>1254.0</td>\n",
              "    </tr>\n",
              "    <tr>\n",
              "      <th>mean</th>\n",
              "      <td>176.236248</td>\n",
              "      <td>177.984338</td>\n",
              "      <td>174.298102</td>\n",
              "      <td>176.055708</td>\n",
              "      <td>7.193728e+07</td>\n",
              "      <td>174.329055</td>\n",
              "      <td>176.057403</td>\n",
              "      <td>172.412539</td>\n",
              "      <td>174.150169</td>\n",
              "      <td>7.193728e+07</td>\n",
              "      <td>0.003740</td>\n",
              "      <td>1.0</td>\n",
              "    </tr>\n",
              "    <tr>\n",
              "      <th>std</th>\n",
              "      <td>36.553247</td>\n",
              "      <td>36.737537</td>\n",
              "      <td>36.267454</td>\n",
              "      <td>36.483752</td>\n",
              "      <td>3.080050e+07</td>\n",
              "      <td>37.383227</td>\n",
              "      <td>37.579460</td>\n",
              "      <td>37.085928</td>\n",
              "      <td>37.313006</td>\n",
              "      <td>3.080050e+07</td>\n",
              "      <td>0.029458</td>\n",
              "      <td>0.0</td>\n",
              "    </tr>\n",
              "    <tr>\n",
              "      <th>min</th>\n",
              "      <td>108.770000</td>\n",
              "      <td>110.680000</td>\n",
              "      <td>107.320000</td>\n",
              "      <td>109.110000</td>\n",
              "      <td>2.323470e+07</td>\n",
              "      <td>105.812972</td>\n",
              "      <td>107.671047</td>\n",
              "      <td>104.402392</td>\n",
              "      <td>106.143729</td>\n",
              "      <td>2.323470e+07</td>\n",
              "      <td>0.000000</td>\n",
              "      <td>1.0</td>\n",
              "    </tr>\n",
              "    <tr>\n",
              "      <th>25%</th>\n",
              "      <td>146.840000</td>\n",
              "      <td>148.517225</td>\n",
              "      <td>145.522500</td>\n",
              "      <td>146.862500</td>\n",
              "      <td>4.941528e+07</td>\n",
              "      <td>144.073330</td>\n",
              "      <td>145.654623</td>\n",
              "      <td>142.595122</td>\n",
              "      <td>144.012443</td>\n",
              "      <td>4.941528e+07</td>\n",
              "      <td>0.000000</td>\n",
              "      <td>1.0</td>\n",
              "    </tr>\n",
              "    <tr>\n",
              "      <th>50%</th>\n",
              "      <td>172.155000</td>\n",
              "      <td>173.615000</td>\n",
              "      <td>170.465050</td>\n",
              "      <td>171.755000</td>\n",
              "      <td>6.516156e+07</td>\n",
              "      <td>169.649576</td>\n",
              "      <td>171.402433</td>\n",
              "      <td>168.400763</td>\n",
              "      <td>169.483139</td>\n",
              "      <td>6.516156e+07</td>\n",
              "      <td>0.000000</td>\n",
              "      <td>1.0</td>\n",
              "    </tr>\n",
              "    <tr>\n",
              "      <th>75%</th>\n",
              "      <td>201.487500</td>\n",
              "      <td>203.800000</td>\n",
              "      <td>199.875000</td>\n",
              "      <td>201.797500</td>\n",
              "      <td>8.744616e+07</td>\n",
              "      <td>201.257168</td>\n",
              "      <td>203.567024</td>\n",
              "      <td>199.621540</td>\n",
              "      <td>201.389848</td>\n",
              "      <td>8.744616e+07</td>\n",
              "      <td>0.000000</td>\n",
              "      <td>1.0</td>\n",
              "    </tr>\n",
              "    <tr>\n",
              "      <th>max</th>\n",
              "      <td>269.000000</td>\n",
              "      <td>269.890000</td>\n",
              "      <td>268.150000</td>\n",
              "      <td>268.985000</td>\n",
              "      <td>3.186799e+08</td>\n",
              "      <td>269.000000</td>\n",
              "      <td>269.890000</td>\n",
              "      <td>268.150000</td>\n",
              "      <td>268.985000</td>\n",
              "      <td>3.186799e+08</td>\n",
              "      <td>0.260000</td>\n",
              "      <td>1.0</td>\n",
              "    </tr>\n",
              "  </tbody>\n",
              "</table>\n",
              "</div>\n",
              "    <div class=\"colab-df-buttons\">\n",
              "\n",
              "  <div class=\"colab-df-container\">\n",
              "    <button class=\"colab-df-convert\" onclick=\"convertToInteractive('df-87ea5133-a1a7-4dbb-ab6c-814bc3000478')\"\n",
              "            title=\"Convert this dataframe to an interactive table.\"\n",
              "            style=\"display:none;\">\n",
              "\n",
              "  <svg xmlns=\"http://www.w3.org/2000/svg\" height=\"24px\" viewBox=\"0 -960 960 960\">\n",
              "    <path d=\"M120-120v-720h720v720H120Zm60-500h600v-160H180v160Zm220 220h160v-160H400v160Zm0 220h160v-160H400v160ZM180-400h160v-160H180v160Zm440 0h160v-160H620v160ZM180-180h160v-160H180v160Zm440 0h160v-160H620v160Z\"/>\n",
              "  </svg>\n",
              "    </button>\n",
              "\n",
              "  <style>\n",
              "    .colab-df-container {\n",
              "      display:flex;\n",
              "      gap: 12px;\n",
              "    }\n",
              "\n",
              "    .colab-df-convert {\n",
              "      background-color: #E8F0FE;\n",
              "      border: none;\n",
              "      border-radius: 50%;\n",
              "      cursor: pointer;\n",
              "      display: none;\n",
              "      fill: #1967D2;\n",
              "      height: 32px;\n",
              "      padding: 0 0 0 0;\n",
              "      width: 32px;\n",
              "    }\n",
              "\n",
              "    .colab-df-convert:hover {\n",
              "      background-color: #E2EBFA;\n",
              "      box-shadow: 0px 1px 2px rgba(60, 64, 67, 0.3), 0px 1px 3px 1px rgba(60, 64, 67, 0.15);\n",
              "      fill: #174EA6;\n",
              "    }\n",
              "\n",
              "    .colab-df-buttons div {\n",
              "      margin-bottom: 4px;\n",
              "    }\n",
              "\n",
              "    [theme=dark] .colab-df-convert {\n",
              "      background-color: #3B4455;\n",
              "      fill: #D2E3FC;\n",
              "    }\n",
              "\n",
              "    [theme=dark] .colab-df-convert:hover {\n",
              "      background-color: #434B5C;\n",
              "      box-shadow: 0px 1px 3px 1px rgba(0, 0, 0, 0.15);\n",
              "      filter: drop-shadow(0px 1px 2px rgba(0, 0, 0, 0.3));\n",
              "      fill: #FFFFFF;\n",
              "    }\n",
              "  </style>\n",
              "\n",
              "    <script>\n",
              "      const buttonEl =\n",
              "        document.querySelector('#df-87ea5133-a1a7-4dbb-ab6c-814bc3000478 button.colab-df-convert');\n",
              "      buttonEl.style.display =\n",
              "        google.colab.kernel.accessAllowed ? 'block' : 'none';\n",
              "\n",
              "      async function convertToInteractive(key) {\n",
              "        const element = document.querySelector('#df-87ea5133-a1a7-4dbb-ab6c-814bc3000478');\n",
              "        const dataTable =\n",
              "          await google.colab.kernel.invokeFunction('convertToInteractive',\n",
              "                                                    [key], {});\n",
              "        if (!dataTable) return;\n",
              "\n",
              "        const docLinkHtml = 'Like what you see? Visit the ' +\n",
              "          '<a target=\"_blank\" href=https://colab.research.google.com/notebooks/data_table.ipynb>data table notebook</a>'\n",
              "          + ' to learn more about interactive tables.';\n",
              "        element.innerHTML = '';\n",
              "        dataTable['output_type'] = 'display_data';\n",
              "        await google.colab.output.renderOutput(dataTable, element);\n",
              "        const docLink = document.createElement('div');\n",
              "        docLink.innerHTML = docLinkHtml;\n",
              "        element.appendChild(docLink);\n",
              "      }\n",
              "    </script>\n",
              "  </div>\n",
              "\n",
              "\n",
              "    <div id=\"df-3b486c84-f77d-4f73-915d-94c6deecc4c8\">\n",
              "      <button class=\"colab-df-quickchart\" onclick=\"quickchart('df-3b486c84-f77d-4f73-915d-94c6deecc4c8')\"\n",
              "                title=\"Suggest charts\"\n",
              "                style=\"display:none;\">\n",
              "\n",
              "<svg xmlns=\"http://www.w3.org/2000/svg\" height=\"24px\"viewBox=\"0 0 24 24\"\n",
              "     width=\"24px\">\n",
              "    <g>\n",
              "        <path d=\"M19 3H5c-1.1 0-2 .9-2 2v14c0 1.1.9 2 2 2h14c1.1 0 2-.9 2-2V5c0-1.1-.9-2-2-2zM9 17H7v-7h2v7zm4 0h-2V7h2v10zm4 0h-2v-4h2v4z\"/>\n",
              "    </g>\n",
              "</svg>\n",
              "      </button>\n",
              "\n",
              "<style>\n",
              "  .colab-df-quickchart {\n",
              "      --bg-color: #E8F0FE;\n",
              "      --fill-color: #1967D2;\n",
              "      --hover-bg-color: #E2EBFA;\n",
              "      --hover-fill-color: #174EA6;\n",
              "      --disabled-fill-color: #AAA;\n",
              "      --disabled-bg-color: #DDD;\n",
              "  }\n",
              "\n",
              "  [theme=dark] .colab-df-quickchart {\n",
              "      --bg-color: #3B4455;\n",
              "      --fill-color: #D2E3FC;\n",
              "      --hover-bg-color: #434B5C;\n",
              "      --hover-fill-color: #FFFFFF;\n",
              "      --disabled-bg-color: #3B4455;\n",
              "      --disabled-fill-color: #666;\n",
              "  }\n",
              "\n",
              "  .colab-df-quickchart {\n",
              "    background-color: var(--bg-color);\n",
              "    border: none;\n",
              "    border-radius: 50%;\n",
              "    cursor: pointer;\n",
              "    display: none;\n",
              "    fill: var(--fill-color);\n",
              "    height: 32px;\n",
              "    padding: 0;\n",
              "    width: 32px;\n",
              "  }\n",
              "\n",
              "  .colab-df-quickchart:hover {\n",
              "    background-color: var(--hover-bg-color);\n",
              "    box-shadow: 0 1px 2px rgba(60, 64, 67, 0.3), 0 1px 3px 1px rgba(60, 64, 67, 0.15);\n",
              "    fill: var(--button-hover-fill-color);\n",
              "  }\n",
              "\n",
              "  .colab-df-quickchart-complete:disabled,\n",
              "  .colab-df-quickchart-complete:disabled:hover {\n",
              "    background-color: var(--disabled-bg-color);\n",
              "    fill: var(--disabled-fill-color);\n",
              "    box-shadow: none;\n",
              "  }\n",
              "\n",
              "  .colab-df-spinner {\n",
              "    border: 2px solid var(--fill-color);\n",
              "    border-color: transparent;\n",
              "    border-bottom-color: var(--fill-color);\n",
              "    animation:\n",
              "      spin 1s steps(1) infinite;\n",
              "  }\n",
              "\n",
              "  @keyframes spin {\n",
              "    0% {\n",
              "      border-color: transparent;\n",
              "      border-bottom-color: var(--fill-color);\n",
              "      border-left-color: var(--fill-color);\n",
              "    }\n",
              "    20% {\n",
              "      border-color: transparent;\n",
              "      border-left-color: var(--fill-color);\n",
              "      border-top-color: var(--fill-color);\n",
              "    }\n",
              "    30% {\n",
              "      border-color: transparent;\n",
              "      border-left-color: var(--fill-color);\n",
              "      border-top-color: var(--fill-color);\n",
              "      border-right-color: var(--fill-color);\n",
              "    }\n",
              "    40% {\n",
              "      border-color: transparent;\n",
              "      border-right-color: var(--fill-color);\n",
              "      border-top-color: var(--fill-color);\n",
              "    }\n",
              "    60% {\n",
              "      border-color: transparent;\n",
              "      border-right-color: var(--fill-color);\n",
              "    }\n",
              "    80% {\n",
              "      border-color: transparent;\n",
              "      border-right-color: var(--fill-color);\n",
              "      border-bottom-color: var(--fill-color);\n",
              "    }\n",
              "    90% {\n",
              "      border-color: transparent;\n",
              "      border-bottom-color: var(--fill-color);\n",
              "    }\n",
              "  }\n",
              "</style>\n",
              "\n",
              "      <script>\n",
              "        async function quickchart(key) {\n",
              "          const quickchartButtonEl =\n",
              "            document.querySelector('#' + key + ' button');\n",
              "          quickchartButtonEl.disabled = true;  // To prevent multiple clicks.\n",
              "          quickchartButtonEl.classList.add('colab-df-spinner');\n",
              "          try {\n",
              "            const charts = await google.colab.kernel.invokeFunction(\n",
              "                'suggestCharts', [key], {});\n",
              "          } catch (error) {\n",
              "            console.error('Error during call to suggestCharts:', error);\n",
              "          }\n",
              "          quickchartButtonEl.classList.remove('colab-df-spinner');\n",
              "          quickchartButtonEl.classList.add('colab-df-quickchart-complete');\n",
              "        }\n",
              "        (() => {\n",
              "          let quickchartButtonEl =\n",
              "            document.querySelector('#df-3b486c84-f77d-4f73-915d-94c6deecc4c8 button');\n",
              "          quickchartButtonEl.style.display =\n",
              "            google.colab.kernel.accessAllowed ? 'block' : 'none';\n",
              "        })();\n",
              "      </script>\n",
              "    </div>\n",
              "\n",
              "    </div>\n",
              "  </div>\n"
            ],
            "application/vnd.google.colaboratory.intrinsic+json": {
              "type": "dataframe",
              "summary": "{\n  \"name\": \"df\",\n  \"rows\": 8,\n  \"fields\": [\n    {\n      \"column\": \"close\",\n      \"properties\": {\n        \"dtype\": \"number\",\n        \"std\": 393.10519412028276,\n        \"min\": 36.5532467693225,\n        \"max\": 1254.0,\n        \"num_unique_values\": 8,\n        \"samples\": [\n          176.23624800637958,\n          172.15499999999997,\n          1254.0\n        ],\n        \"semantic_type\": \"\",\n        \"description\": \"\"\n      }\n    },\n    {\n      \"column\": \"high\",\n      \"properties\": {\n        \"dtype\": \"number\",\n        \"std\": 392.63897077219406,\n        \"min\": 36.737536542314935,\n        \"max\": 1254.0,\n        \"num_unique_values\": 8,\n        \"samples\": [\n          177.98433819776713,\n          173.615,\n          1254.0\n        ],\n        \"semantic_type\": \"\",\n        \"description\": \"\"\n      }\n    },\n    {\n      \"column\": \"low\",\n      \"properties\": {\n        \"dtype\": \"number\",\n        \"std\": 393.5255160407261,\n        \"min\": 36.26745429125963,\n        \"max\": 1254.0,\n        \"num_unique_values\": 8,\n        \"samples\": [\n          174.2981023125997,\n          170.46505,\n          1254.0\n        ],\n        \"semantic_type\": \"\",\n        \"description\": \"\"\n      }\n    },\n    {\n      \"column\": \"open\",\n      \"properties\": {\n        \"dtype\": \"number\",\n        \"std\": 393.102828276546,\n        \"min\": 36.483752009621305,\n        \"max\": 1254.0,\n        \"num_unique_values\": 8,\n        \"samples\": [\n          176.05570805422647,\n          171.755,\n          1254.0\n        ],\n        \"semantic_type\": \"\",\n        \"description\": \"\"\n      }\n    },\n    {\n      \"column\": \"volume\",\n      \"properties\": {\n        \"dtype\": \"number\",\n        \"std\": 100200700.76584509,\n        \"min\": 1254.0,\n        \"max\": 318679888.0,\n        \"num_unique_values\": 8,\n        \"samples\": [\n          71937277.59250398,\n          65161555.0,\n          1254.0\n        ],\n        \"semantic_type\": \"\",\n        \"description\": \"\"\n      }\n    },\n    {\n      \"column\": \"adjClose\",\n      \"properties\": {\n        \"dtype\": \"number\",\n        \"std\": 393.58306298061973,\n        \"min\": 37.38322662215069,\n        \"max\": 1254.0,\n        \"num_unique_values\": 8,\n        \"samples\": [\n          174.3290551960871,\n          169.64957618845,\n          1254.0\n        ],\n        \"semantic_type\": \"\",\n        \"description\": \"\"\n      }\n    },\n    {\n      \"column\": \"adjHigh\",\n      \"properties\": {\n        \"dtype\": \"number\",\n        \"std\": 393.1107580532086,\n        \"min\": 37.57946025504852,\n        \"max\": 1254.0,\n        \"num_unique_values\": 8,\n        \"samples\": [\n          176.0574031241665,\n          171.40243290895,\n          1254.0\n        ],\n        \"semantic_type\": \"\",\n        \"description\": \"\"\n      }\n    },\n    {\n      \"column\": \"adjLow\",\n      \"properties\": {\n        \"dtype\": \"number\",\n        \"std\": 393.9916918234711,\n        \"min\": 37.085927575361104,\n        \"max\": 1254.0,\n        \"num_unique_values\": 8,\n        \"samples\": [\n          172.41253906408286,\n          168.40076282594998,\n          1254.0\n        ],\n        \"semantic_type\": \"\",\n        \"description\": \"\"\n      }\n    },\n    {\n      \"column\": \"adjOpen\",\n      \"properties\": {\n        \"dtype\": \"number\",\n        \"std\": 393.5813164102742,\n        \"min\": 37.3130057129576,\n        \"max\": 1254.0,\n        \"num_unique_values\": 8,\n        \"samples\": [\n          174.15016942388388,\n          169.48313871624998,\n          1254.0\n        ],\n        \"semantic_type\": \"\",\n        \"description\": \"\"\n      }\n    },\n    {\n      \"column\": \"adjVolume\",\n      \"properties\": {\n        \"dtype\": \"number\",\n        \"std\": 100200700.76584509,\n        \"min\": 1254.0,\n        \"max\": 318679888.0,\n        \"num_unique_values\": 8,\n        \"samples\": [\n          71937277.59250398,\n          65161555.0,\n          1254.0\n        ],\n        \"semantic_type\": \"\",\n        \"description\": \"\"\n      }\n    },\n    {\n      \"column\": \"divCash\",\n      \"properties\": {\n        \"dtype\": \"number\",\n        \"std\": 443.3411521295687,\n        \"min\": 0.0,\n        \"max\": 1254.0,\n        \"num_unique_values\": 5,\n        \"samples\": [\n          0.0037400318979266345,\n          0.26,\n          0.029457847254734302\n        ],\n        \"semantic_type\": \"\",\n        \"description\": \"\"\n      }\n    },\n    {\n      \"column\": \"splitFactor\",\n      \"properties\": {\n        \"dtype\": \"number\",\n        \"std\": 443.0530442283407,\n        \"min\": 0.0,\n        \"max\": 1254.0,\n        \"num_unique_values\": 3,\n        \"samples\": [\n          1254.0,\n          1.0,\n          0.0\n        ],\n        \"semantic_type\": \"\",\n        \"description\": \"\"\n      }\n    }\n  ]\n}"
            }
          },
          "metadata": {},
          "execution_count": 115
        }
      ]
    },
    {
      "cell_type": "code",
      "source": [
        "df.isnull().sum()"
      ],
      "metadata": {
        "colab": {
          "base_uri": "https://localhost:8080/",
          "height": 460
        },
        "id": "RapBVmHx-JJe",
        "outputId": "140d03d7-e184-4cb6-b549-13d0705e350c"
      },
      "execution_count": 116,
      "outputs": [
        {
          "output_type": "execute_result",
          "data": {
            "text/plain": [
              "close          0\n",
              "high           0\n",
              "low            0\n",
              "open           0\n",
              "volume         0\n",
              "adjClose       0\n",
              "adjHigh        0\n",
              "adjLow         0\n",
              "adjOpen        0\n",
              "adjVolume      0\n",
              "divCash        0\n",
              "splitFactor    0\n",
              "dtype: int64"
            ],
            "text/html": [
              "<div>\n",
              "<style scoped>\n",
              "    .dataframe tbody tr th:only-of-type {\n",
              "        vertical-align: middle;\n",
              "    }\n",
              "\n",
              "    .dataframe tbody tr th {\n",
              "        vertical-align: top;\n",
              "    }\n",
              "\n",
              "    .dataframe thead th {\n",
              "        text-align: right;\n",
              "    }\n",
              "</style>\n",
              "<table border=\"1\" class=\"dataframe\">\n",
              "  <thead>\n",
              "    <tr style=\"text-align: right;\">\n",
              "      <th></th>\n",
              "      <th>0</th>\n",
              "    </tr>\n",
              "  </thead>\n",
              "  <tbody>\n",
              "    <tr>\n",
              "      <th>close</th>\n",
              "      <td>0</td>\n",
              "    </tr>\n",
              "    <tr>\n",
              "      <th>high</th>\n",
              "      <td>0</td>\n",
              "    </tr>\n",
              "    <tr>\n",
              "      <th>low</th>\n",
              "      <td>0</td>\n",
              "    </tr>\n",
              "    <tr>\n",
              "      <th>open</th>\n",
              "      <td>0</td>\n",
              "    </tr>\n",
              "    <tr>\n",
              "      <th>volume</th>\n",
              "      <td>0</td>\n",
              "    </tr>\n",
              "    <tr>\n",
              "      <th>adjClose</th>\n",
              "      <td>0</td>\n",
              "    </tr>\n",
              "    <tr>\n",
              "      <th>adjHigh</th>\n",
              "      <td>0</td>\n",
              "    </tr>\n",
              "    <tr>\n",
              "      <th>adjLow</th>\n",
              "      <td>0</td>\n",
              "    </tr>\n",
              "    <tr>\n",
              "      <th>adjOpen</th>\n",
              "      <td>0</td>\n",
              "    </tr>\n",
              "    <tr>\n",
              "      <th>adjVolume</th>\n",
              "      <td>0</td>\n",
              "    </tr>\n",
              "    <tr>\n",
              "      <th>divCash</th>\n",
              "      <td>0</td>\n",
              "    </tr>\n",
              "    <tr>\n",
              "      <th>splitFactor</th>\n",
              "      <td>0</td>\n",
              "    </tr>\n",
              "  </tbody>\n",
              "</table>\n",
              "</div><br><label><b>dtype:</b> int64</label>"
            ]
          },
          "metadata": {},
          "execution_count": 116
        }
      ]
    },
    {
      "cell_type": "code",
      "source": [
        "df.tail()"
      ],
      "metadata": {
        "colab": {
          "base_uri": "https://localhost:8080/",
          "height": 344
        },
        "id": "jY5cpJZz-N3m",
        "outputId": "56beda99-cca0-49b8-b3bf-de95bb97a8ab"
      },
      "execution_count": 117,
      "outputs": [
        {
          "output_type": "execute_result",
          "data": {
            "text/plain": [
              "                                   close    high       low     open    volume  \\\n",
              "symbol date                                                                     \n",
              "AAPL   2025-10-22 00:00:00+00:00  258.45  262.85  255.4300  262.650  45015254   \n",
              "       2025-10-23 00:00:00+00:00  259.58  260.62  258.0101  259.940  32754941   \n",
              "       2025-10-24 00:00:00+00:00  262.82  264.13  259.1800  261.190  38253717   \n",
              "       2025-10-27 00:00:00+00:00  268.81  269.12  264.6501  264.880  44888152   \n",
              "       2025-10-28 00:00:00+00:00  269.00  269.89  268.1500  268.985  41534759   \n",
              "\n",
              "                                  adjClose  adjHigh    adjLow  adjOpen  \\\n",
              "symbol date                                                              \n",
              "AAPL   2025-10-22 00:00:00+00:00    258.45   262.85  255.4300  262.650   \n",
              "       2025-10-23 00:00:00+00:00    259.58   260.62  258.0101  259.940   \n",
              "       2025-10-24 00:00:00+00:00    262.82   264.13  259.1800  261.190   \n",
              "       2025-10-27 00:00:00+00:00    268.81   269.12  264.6501  264.880   \n",
              "       2025-10-28 00:00:00+00:00    269.00   269.89  268.1500  268.985   \n",
              "\n",
              "                                  adjVolume  divCash  splitFactor  \n",
              "symbol date                                                        \n",
              "AAPL   2025-10-22 00:00:00+00:00   45015254      0.0          1.0  \n",
              "       2025-10-23 00:00:00+00:00   32754941      0.0          1.0  \n",
              "       2025-10-24 00:00:00+00:00   38253717      0.0          1.0  \n",
              "       2025-10-27 00:00:00+00:00   44888152      0.0          1.0  \n",
              "       2025-10-28 00:00:00+00:00   41534759      0.0          1.0  "
            ],
            "text/html": [
              "\n",
              "  <div id=\"df-91ac6f3a-2c60-4685-9de8-33518dad76a3\" class=\"colab-df-container\">\n",
              "    <div>\n",
              "<style scoped>\n",
              "    .dataframe tbody tr th:only-of-type {\n",
              "        vertical-align: middle;\n",
              "    }\n",
              "\n",
              "    .dataframe tbody tr th {\n",
              "        vertical-align: top;\n",
              "    }\n",
              "\n",
              "    .dataframe thead th {\n",
              "        text-align: right;\n",
              "    }\n",
              "</style>\n",
              "<table border=\"1\" class=\"dataframe\">\n",
              "  <thead>\n",
              "    <tr style=\"text-align: right;\">\n",
              "      <th></th>\n",
              "      <th></th>\n",
              "      <th>close</th>\n",
              "      <th>high</th>\n",
              "      <th>low</th>\n",
              "      <th>open</th>\n",
              "      <th>volume</th>\n",
              "      <th>adjClose</th>\n",
              "      <th>adjHigh</th>\n",
              "      <th>adjLow</th>\n",
              "      <th>adjOpen</th>\n",
              "      <th>adjVolume</th>\n",
              "      <th>divCash</th>\n",
              "      <th>splitFactor</th>\n",
              "    </tr>\n",
              "    <tr>\n",
              "      <th>symbol</th>\n",
              "      <th>date</th>\n",
              "      <th></th>\n",
              "      <th></th>\n",
              "      <th></th>\n",
              "      <th></th>\n",
              "      <th></th>\n",
              "      <th></th>\n",
              "      <th></th>\n",
              "      <th></th>\n",
              "      <th></th>\n",
              "      <th></th>\n",
              "      <th></th>\n",
              "      <th></th>\n",
              "    </tr>\n",
              "  </thead>\n",
              "  <tbody>\n",
              "    <tr>\n",
              "      <th rowspan=\"5\" valign=\"top\">AAPL</th>\n",
              "      <th>2025-10-22 00:00:00+00:00</th>\n",
              "      <td>258.45</td>\n",
              "      <td>262.85</td>\n",
              "      <td>255.4300</td>\n",
              "      <td>262.650</td>\n",
              "      <td>45015254</td>\n",
              "      <td>258.45</td>\n",
              "      <td>262.85</td>\n",
              "      <td>255.4300</td>\n",
              "      <td>262.650</td>\n",
              "      <td>45015254</td>\n",
              "      <td>0.0</td>\n",
              "      <td>1.0</td>\n",
              "    </tr>\n",
              "    <tr>\n",
              "      <th>2025-10-23 00:00:00+00:00</th>\n",
              "      <td>259.58</td>\n",
              "      <td>260.62</td>\n",
              "      <td>258.0101</td>\n",
              "      <td>259.940</td>\n",
              "      <td>32754941</td>\n",
              "      <td>259.58</td>\n",
              "      <td>260.62</td>\n",
              "      <td>258.0101</td>\n",
              "      <td>259.940</td>\n",
              "      <td>32754941</td>\n",
              "      <td>0.0</td>\n",
              "      <td>1.0</td>\n",
              "    </tr>\n",
              "    <tr>\n",
              "      <th>2025-10-24 00:00:00+00:00</th>\n",
              "      <td>262.82</td>\n",
              "      <td>264.13</td>\n",
              "      <td>259.1800</td>\n",
              "      <td>261.190</td>\n",
              "      <td>38253717</td>\n",
              "      <td>262.82</td>\n",
              "      <td>264.13</td>\n",
              "      <td>259.1800</td>\n",
              "      <td>261.190</td>\n",
              "      <td>38253717</td>\n",
              "      <td>0.0</td>\n",
              "      <td>1.0</td>\n",
              "    </tr>\n",
              "    <tr>\n",
              "      <th>2025-10-27 00:00:00+00:00</th>\n",
              "      <td>268.81</td>\n",
              "      <td>269.12</td>\n",
              "      <td>264.6501</td>\n",
              "      <td>264.880</td>\n",
              "      <td>44888152</td>\n",
              "      <td>268.81</td>\n",
              "      <td>269.12</td>\n",
              "      <td>264.6501</td>\n",
              "      <td>264.880</td>\n",
              "      <td>44888152</td>\n",
              "      <td>0.0</td>\n",
              "      <td>1.0</td>\n",
              "    </tr>\n",
              "    <tr>\n",
              "      <th>2025-10-28 00:00:00+00:00</th>\n",
              "      <td>269.00</td>\n",
              "      <td>269.89</td>\n",
              "      <td>268.1500</td>\n",
              "      <td>268.985</td>\n",
              "      <td>41534759</td>\n",
              "      <td>269.00</td>\n",
              "      <td>269.89</td>\n",
              "      <td>268.1500</td>\n",
              "      <td>268.985</td>\n",
              "      <td>41534759</td>\n",
              "      <td>0.0</td>\n",
              "      <td>1.0</td>\n",
              "    </tr>\n",
              "  </tbody>\n",
              "</table>\n",
              "</div>\n",
              "    <div class=\"colab-df-buttons\">\n",
              "\n",
              "  <div class=\"colab-df-container\">\n",
              "    <button class=\"colab-df-convert\" onclick=\"convertToInteractive('df-91ac6f3a-2c60-4685-9de8-33518dad76a3')\"\n",
              "            title=\"Convert this dataframe to an interactive table.\"\n",
              "            style=\"display:none;\">\n",
              "\n",
              "  <svg xmlns=\"http://www.w3.org/2000/svg\" height=\"24px\" viewBox=\"0 -960 960 960\">\n",
              "    <path d=\"M120-120v-720h720v720H120Zm60-500h600v-160H180v160Zm220 220h160v-160H400v160Zm0 220h160v-160H400v160ZM180-400h160v-160H180v160Zm440 0h160v-160H620v160ZM180-180h160v-160H180v160Zm440 0h160v-160H620v160Z\"/>\n",
              "  </svg>\n",
              "    </button>\n",
              "\n",
              "  <style>\n",
              "    .colab-df-container {\n",
              "      display:flex;\n",
              "      gap: 12px;\n",
              "    }\n",
              "\n",
              "    .colab-df-convert {\n",
              "      background-color: #E8F0FE;\n",
              "      border: none;\n",
              "      border-radius: 50%;\n",
              "      cursor: pointer;\n",
              "      display: none;\n",
              "      fill: #1967D2;\n",
              "      height: 32px;\n",
              "      padding: 0 0 0 0;\n",
              "      width: 32px;\n",
              "    }\n",
              "\n",
              "    .colab-df-convert:hover {\n",
              "      background-color: #E2EBFA;\n",
              "      box-shadow: 0px 1px 2px rgba(60, 64, 67, 0.3), 0px 1px 3px 1px rgba(60, 64, 67, 0.15);\n",
              "      fill: #174EA6;\n",
              "    }\n",
              "\n",
              "    .colab-df-buttons div {\n",
              "      margin-bottom: 4px;\n",
              "    }\n",
              "\n",
              "    [theme=dark] .colab-df-convert {\n",
              "      background-color: #3B4455;\n",
              "      fill: #D2E3FC;\n",
              "    }\n",
              "\n",
              "    [theme=dark] .colab-df-convert:hover {\n",
              "      background-color: #434B5C;\n",
              "      box-shadow: 0px 1px 3px 1px rgba(0, 0, 0, 0.15);\n",
              "      filter: drop-shadow(0px 1px 2px rgba(0, 0, 0, 0.3));\n",
              "      fill: #FFFFFF;\n",
              "    }\n",
              "  </style>\n",
              "\n",
              "    <script>\n",
              "      const buttonEl =\n",
              "        document.querySelector('#df-91ac6f3a-2c60-4685-9de8-33518dad76a3 button.colab-df-convert');\n",
              "      buttonEl.style.display =\n",
              "        google.colab.kernel.accessAllowed ? 'block' : 'none';\n",
              "\n",
              "      async function convertToInteractive(key) {\n",
              "        const element = document.querySelector('#df-91ac6f3a-2c60-4685-9de8-33518dad76a3');\n",
              "        const dataTable =\n",
              "          await google.colab.kernel.invokeFunction('convertToInteractive',\n",
              "                                                    [key], {});\n",
              "        if (!dataTable) return;\n",
              "\n",
              "        const docLinkHtml = 'Like what you see? Visit the ' +\n",
              "          '<a target=\"_blank\" href=https://colab.research.google.com/notebooks/data_table.ipynb>data table notebook</a>'\n",
              "          + ' to learn more about interactive tables.';\n",
              "        element.innerHTML = '';\n",
              "        dataTable['output_type'] = 'display_data';\n",
              "        await google.colab.output.renderOutput(dataTable, element);\n",
              "        const docLink = document.createElement('div');\n",
              "        docLink.innerHTML = docLinkHtml;\n",
              "        element.appendChild(docLink);\n",
              "      }\n",
              "    </script>\n",
              "  </div>\n",
              "\n",
              "\n",
              "    <div id=\"df-fd6865a8-5910-4fcf-bd76-aab24cfcadfe\">\n",
              "      <button class=\"colab-df-quickchart\" onclick=\"quickchart('df-fd6865a8-5910-4fcf-bd76-aab24cfcadfe')\"\n",
              "                title=\"Suggest charts\"\n",
              "                style=\"display:none;\">\n",
              "\n",
              "<svg xmlns=\"http://www.w3.org/2000/svg\" height=\"24px\"viewBox=\"0 0 24 24\"\n",
              "     width=\"24px\">\n",
              "    <g>\n",
              "        <path d=\"M19 3H5c-1.1 0-2 .9-2 2v14c0 1.1.9 2 2 2h14c1.1 0 2-.9 2-2V5c0-1.1-.9-2-2-2zM9 17H7v-7h2v7zm4 0h-2V7h2v10zm4 0h-2v-4h2v4z\"/>\n",
              "    </g>\n",
              "</svg>\n",
              "      </button>\n",
              "\n",
              "<style>\n",
              "  .colab-df-quickchart {\n",
              "      --bg-color: #E8F0FE;\n",
              "      --fill-color: #1967D2;\n",
              "      --hover-bg-color: #E2EBFA;\n",
              "      --hover-fill-color: #174EA6;\n",
              "      --disabled-fill-color: #AAA;\n",
              "      --disabled-bg-color: #DDD;\n",
              "  }\n",
              "\n",
              "  [theme=dark] .colab-df-quickchart {\n",
              "      --bg-color: #3B4455;\n",
              "      --fill-color: #D2E3FC;\n",
              "      --hover-bg-color: #434B5C;\n",
              "      --hover-fill-color: #FFFFFF;\n",
              "      --disabled-bg-color: #3B4455;\n",
              "      --disabled-fill-color: #666;\n",
              "  }\n",
              "\n",
              "  .colab-df-quickchart {\n",
              "    background-color: var(--bg-color);\n",
              "    border: none;\n",
              "    border-radius: 50%;\n",
              "    cursor: pointer;\n",
              "    display: none;\n",
              "    fill: var(--fill-color);\n",
              "    height: 32px;\n",
              "    padding: 0;\n",
              "    width: 32px;\n",
              "  }\n",
              "\n",
              "  .colab-df-quickchart:hover {\n",
              "    background-color: var(--hover-bg-color);\n",
              "    box-shadow: 0 1px 2px rgba(60, 64, 67, 0.3), 0 1px 3px 1px rgba(60, 64, 67, 0.15);\n",
              "    fill: var(--button-hover-fill-color);\n",
              "  }\n",
              "\n",
              "  .colab-df-quickchart-complete:disabled,\n",
              "  .colab-df-quickchart-complete:disabled:hover {\n",
              "    background-color: var(--disabled-bg-color);\n",
              "    fill: var(--disabled-fill-color);\n",
              "    box-shadow: none;\n",
              "  }\n",
              "\n",
              "  .colab-df-spinner {\n",
              "    border: 2px solid var(--fill-color);\n",
              "    border-color: transparent;\n",
              "    border-bottom-color: var(--fill-color);\n",
              "    animation:\n",
              "      spin 1s steps(1) infinite;\n",
              "  }\n",
              "\n",
              "  @keyframes spin {\n",
              "    0% {\n",
              "      border-color: transparent;\n",
              "      border-bottom-color: var(--fill-color);\n",
              "      border-left-color: var(--fill-color);\n",
              "    }\n",
              "    20% {\n",
              "      border-color: transparent;\n",
              "      border-left-color: var(--fill-color);\n",
              "      border-top-color: var(--fill-color);\n",
              "    }\n",
              "    30% {\n",
              "      border-color: transparent;\n",
              "      border-left-color: var(--fill-color);\n",
              "      border-top-color: var(--fill-color);\n",
              "      border-right-color: var(--fill-color);\n",
              "    }\n",
              "    40% {\n",
              "      border-color: transparent;\n",
              "      border-right-color: var(--fill-color);\n",
              "      border-top-color: var(--fill-color);\n",
              "    }\n",
              "    60% {\n",
              "      border-color: transparent;\n",
              "      border-right-color: var(--fill-color);\n",
              "    }\n",
              "    80% {\n",
              "      border-color: transparent;\n",
              "      border-right-color: var(--fill-color);\n",
              "      border-bottom-color: var(--fill-color);\n",
              "    }\n",
              "    90% {\n",
              "      border-color: transparent;\n",
              "      border-bottom-color: var(--fill-color);\n",
              "    }\n",
              "  }\n",
              "</style>\n",
              "\n",
              "      <script>\n",
              "        async function quickchart(key) {\n",
              "          const quickchartButtonEl =\n",
              "            document.querySelector('#' + key + ' button');\n",
              "          quickchartButtonEl.disabled = true;  // To prevent multiple clicks.\n",
              "          quickchartButtonEl.classList.add('colab-df-spinner');\n",
              "          try {\n",
              "            const charts = await google.colab.kernel.invokeFunction(\n",
              "                'suggestCharts', [key], {});\n",
              "          } catch (error) {\n",
              "            console.error('Error during call to suggestCharts:', error);\n",
              "          }\n",
              "          quickchartButtonEl.classList.remove('colab-df-spinner');\n",
              "          quickchartButtonEl.classList.add('colab-df-quickchart-complete');\n",
              "        }\n",
              "        (() => {\n",
              "          let quickchartButtonEl =\n",
              "            document.querySelector('#df-fd6865a8-5910-4fcf-bd76-aab24cfcadfe button');\n",
              "          quickchartButtonEl.style.display =\n",
              "            google.colab.kernel.accessAllowed ? 'block' : 'none';\n",
              "        })();\n",
              "      </script>\n",
              "    </div>\n",
              "\n",
              "    </div>\n",
              "  </div>\n"
            ],
            "application/vnd.google.colaboratory.intrinsic+json": {
              "type": "dataframe",
              "summary": "{\n  \"name\": \"df\",\n  \"rows\": 5,\n  \"fields\": [\n    {\n      \"column\": \"close\",\n      \"properties\": {\n        \"dtype\": \"number\",\n        \"std\": 4.987691850946695,\n        \"min\": 258.45,\n        \"max\": 269.0,\n        \"num_unique_values\": 5,\n        \"samples\": [\n          259.58,\n          269.0,\n          262.82\n        ],\n        \"semantic_type\": \"\",\n        \"description\": \"\"\n      }\n    },\n    {\n      \"column\": \"high\",\n      \"properties\": {\n        \"dtype\": \"number\",\n        \"std\": 4.029016008903407,\n        \"min\": 260.62,\n        \"max\": 269.89,\n        \"num_unique_values\": 5,\n        \"samples\": [\n          260.62,\n          269.89,\n          264.13\n        ],\n        \"semantic_type\": \"\",\n        \"description\": \"\"\n      }\n    },\n    {\n      \"column\": \"low\",\n      \"properties\": {\n        \"dtype\": \"number\",\n        \"std\": 5.1886226113487846,\n        \"min\": 255.43,\n        \"max\": 268.15,\n        \"num_unique_values\": 5,\n        \"samples\": [\n          258.0101,\n          268.15,\n          259.18\n        ],\n        \"semantic_type\": \"\",\n        \"description\": \"\"\n      }\n    },\n    {\n      \"column\": \"open\",\n      \"properties\": {\n        \"dtype\": \"number\",\n        \"std\": 3.5608152156493675,\n        \"min\": 259.94,\n        \"max\": 268.985,\n        \"num_unique_values\": 5,\n        \"samples\": [\n          259.94,\n          268.985,\n          261.19\n        ],\n        \"semantic_type\": \"\",\n        \"description\": \"\"\n      }\n    },\n    {\n      \"column\": \"volume\",\n      \"properties\": {\n        \"dtype\": \"number\",\n        \"std\": 5141626,\n        \"min\": 32754941,\n        \"max\": 45015254,\n        \"num_unique_values\": 5,\n        \"samples\": [\n          32754941,\n          41534759,\n          38253717\n        ],\n        \"semantic_type\": \"\",\n        \"description\": \"\"\n      }\n    },\n    {\n      \"column\": \"adjClose\",\n      \"properties\": {\n        \"dtype\": \"number\",\n        \"std\": 4.987691850946695,\n        \"min\": 258.45,\n        \"max\": 269.0,\n        \"num_unique_values\": 5,\n        \"samples\": [\n          259.58,\n          269.0,\n          262.82\n        ],\n        \"semantic_type\": \"\",\n        \"description\": \"\"\n      }\n    },\n    {\n      \"column\": \"adjHigh\",\n      \"properties\": {\n        \"dtype\": \"number\",\n        \"std\": 4.029016008903407,\n        \"min\": 260.62,\n        \"max\": 269.89,\n        \"num_unique_values\": 5,\n        \"samples\": [\n          260.62,\n          269.89,\n          264.13\n        ],\n        \"semantic_type\": \"\",\n        \"description\": \"\"\n      }\n    },\n    {\n      \"column\": \"adjLow\",\n      \"properties\": {\n        \"dtype\": \"number\",\n        \"std\": 5.1886226113487846,\n        \"min\": 255.43,\n        \"max\": 268.15,\n        \"num_unique_values\": 5,\n        \"samples\": [\n          258.0101,\n          268.15,\n          259.18\n        ],\n        \"semantic_type\": \"\",\n        \"description\": \"\"\n      }\n    },\n    {\n      \"column\": \"adjOpen\",\n      \"properties\": {\n        \"dtype\": \"number\",\n        \"std\": 3.5608152156493675,\n        \"min\": 259.94,\n        \"max\": 268.985,\n        \"num_unique_values\": 5,\n        \"samples\": [\n          259.94,\n          268.985,\n          261.19\n        ],\n        \"semantic_type\": \"\",\n        \"description\": \"\"\n      }\n    },\n    {\n      \"column\": \"adjVolume\",\n      \"properties\": {\n        \"dtype\": \"number\",\n        \"std\": 5141626,\n        \"min\": 32754941,\n        \"max\": 45015254,\n        \"num_unique_values\": 5,\n        \"samples\": [\n          32754941,\n          41534759,\n          38253717\n        ],\n        \"semantic_type\": \"\",\n        \"description\": \"\"\n      }\n    },\n    {\n      \"column\": \"divCash\",\n      \"properties\": {\n        \"dtype\": \"number\",\n        \"std\": 0.0,\n        \"min\": 0.0,\n        \"max\": 0.0,\n        \"num_unique_values\": 1,\n        \"samples\": [\n          0.0\n        ],\n        \"semantic_type\": \"\",\n        \"description\": \"\"\n      }\n    },\n    {\n      \"column\": \"splitFactor\",\n      \"properties\": {\n        \"dtype\": \"number\",\n        \"std\": 0.0,\n        \"min\": 1.0,\n        \"max\": 1.0,\n        \"num_unique_values\": 1,\n        \"samples\": [\n          1.0\n        ],\n        \"semantic_type\": \"\",\n        \"description\": \"\"\n      }\n    }\n  ]\n}"
            }
          },
          "metadata": {},
          "execution_count": 117
        }
      ]
    },
    {
      "cell_type": "code",
      "source": [
        "df1=df.reset_index()['close']"
      ],
      "metadata": {
        "id": "wRDiPdug-UAx"
      },
      "execution_count": 118,
      "outputs": []
    },
    {
      "cell_type": "code",
      "source": [
        "import matplotlib.pyplot as plt\n",
        "plt.plot(df1,label='price',color='black')\n",
        "plt.legend()"
      ],
      "metadata": {
        "colab": {
          "base_uri": "https://localhost:8080/",
          "height": 447
        },
        "id": "4PghDxYT-tkn",
        "outputId": "d64c960b-e2b0-4ba1-acaa-8745a61174e8"
      },
      "execution_count": 119,
      "outputs": [
        {
          "output_type": "execute_result",
          "data": {
            "text/plain": [
              "<matplotlib.legend.Legend at 0x7ea6241609e0>"
            ]
          },
          "metadata": {},
          "execution_count": 119
        },
        {
          "output_type": "display_data",
          "data": {
            "text/plain": [
              "<Figure size 640x480 with 1 Axes>"
            ],
            "image/png": "[encoded data removed]"
          },
          "metadata": {}
        }
      ]
    },
    {
      "cell_type": "code",
      "source": [
        "df.shape"
      ],
      "metadata": {
        "colab": {
          "base_uri": "https://localhost:8080/"
        },
        "id": "c0HSEJvJ-wYn",
        "outputId": "ac703333-59fb-40d3-f160-2c8c5f9c288d"
      },
      "execution_count": 121,
      "outputs": [
        {
          "output_type": "execute_result",
          "data": {
            "text/plain": [
              "(1254, 12)"
            ]
          },
          "metadata": {},
          "execution_count": 121
        }
      ]
    },
    {
      "cell_type": "code",
      "source": [
        "m=MinMaxScaler(feature_range=(0,1))\n",
        "df1=m.fit_transform(np.array(df1).reshape(-1,1))"
      ],
      "metadata": {
        "id": "mdwvEYAw_E_o"
      },
      "execution_count": 120,
      "outputs": []
    },
    {
      "cell_type": "code",
      "source": [
        "df1"
      ],
      "metadata": {
        "colab": {
          "base_uri": "https://localhost:8080/"
        },
        "id": "6OfT8pTx_Xzq",
        "outputId": "7af35288-32b2-45b5-855f-0dc7fd474ebc"
      },
      "execution_count": 122,
      "outputs": [
        {
          "output_type": "execute_result",
          "data": {
            "text/plain": [
              "array([[5.61692567e-04],\n",
              "       [0.00000000e+00],\n",
              "       [1.04225176e-02],\n",
              "       ...,\n",
              "       [9.61430444e-01],\n",
              "       [9.98814205e-01],\n",
              "       [1.00000000e+00]])"
            ]
          },
          "metadata": {},
          "execution_count": 122
        }
      ]
    },
    {
      "cell_type": "code",
      "source": [
        "df1.shape"
      ],
      "metadata": {
        "colab": {
          "base_uri": "https://localhost:8080/"
        },
        "id": "3wiG_Qoi_evr",
        "outputId": "a7ba3f3f-1403-45df-d205-7f799230399a"
      },
      "execution_count": 123,
      "outputs": [
        {
          "output_type": "execute_result",
          "data": {
            "text/plain": [
              "(1254, 1)"
            ]
          },
          "metadata": {},
          "execution_count": 123
        }
      ]
    },
    {
      "cell_type": "code",
      "source": [
        "train_size=int(len(df1)*0.65)\n",
        "test_size=len(df1)-train_size"
      ],
      "metadata": {
        "id": "ylzJ8fK5ANGh"
      },
      "execution_count": 124,
      "outputs": []
    },
    {
      "cell_type": "code",
      "source": [
        "train_size,test_size"
      ],
      "metadata": {
        "colab": {
          "base_uri": "https://localhost:8080/"
        },
        "id": "Sf0xSydfCZkc",
        "outputId": "0eb7bd96-5406-4326-ba25-99f3929d51de"
      },
      "execution_count": 125,
      "outputs": [
        {
          "output_type": "execute_result",
          "data": {
            "text/plain": [
              "(815, 439)"
            ]
          },
          "metadata": {},
          "execution_count": 125
        }
      ]
    },
    {
      "cell_type": "code",
      "source": [
        "train_data,test_data=df1[0:train_size,:],df1[train_size:len(df1),:1]"
      ],
      "metadata": {
        "id": "0ief9Gp3Coa6"
      },
      "execution_count": 126,
      "outputs": []
    },
    {
      "cell_type": "code",
      "source": [
        "def create(dataset,time_step=1):\n",
        "  dataX,dataY=[],[]\n",
        "  for i in range(len(dataset)-time_step-1):\n",
        "    a=dataset[i:(i+time_step),0]\n",
        "    dataX.append(a)\n",
        "    dataY.append(dataset[i+time_step,0])\n",
        "  return np.array(dataX),np.array(dataY)"
      ],
      "metadata": {
        "id": "oi8bXlsrC8OP"
      },
      "execution_count": 127,
      "outputs": []
    },
    {
      "cell_type": "code",
      "source": [
        "time_step=100\n",
        "x_train,y_train=create(train_data,time_step)\n",
        "x_test,y_test=create(test_data,time_step)"
      ],
      "metadata": {
        "id": "kk6HojflDAT0"
      },
      "execution_count": 128,
      "outputs": []
    },
    {
      "cell_type": "code",
      "source": [
        "x_train.shape"
      ],
      "metadata": {
        "colab": {
          "base_uri": "https://localhost:8080/"
        },
        "id": "32ytPPQOFtb5",
        "outputId": "300a50dd-5280-44c7-8ef2-56a224d896e0"
      },
      "execution_count": 129,
      "outputs": [
        {
          "output_type": "execute_result",
          "data": {
            "text/plain": [
              "(714, 100)"
            ]
          },
          "metadata": {},
          "execution_count": 129
        }
      ]
    },
    {
      "cell_type": "code",
      "source": [
        "x_test.shape"
      ],
      "metadata": {
        "colab": {
          "base_uri": "https://localhost:8080/"
        },
        "id": "59CyisNbF0X0",
        "outputId": "44b6b09b-86fb-4200-b9dc-23cbff505a90"
      },
      "execution_count": 130,
      "outputs": [
        {
          "output_type": "execute_result",
          "data": {
            "text/plain": [
              "(338, 100)"
            ]
          },
          "metadata": {},
          "execution_count": 130
        }
      ]
    },
    {
      "cell_type": "code",
      "source": [
        "y_train.shape"
      ],
      "metadata": {
        "colab": {
          "base_uri": "https://localhost:8080/"
        },
        "id": "xKb-Rfo6GA3L",
        "outputId": "20f606b8-6ef6-40e2-94ce-7624a07c7dd6"
      },
      "execution_count": 131,
      "outputs": [
        {
          "output_type": "execute_result",
          "data": {
            "text/plain": [
              "(714,)"
            ]
          },
          "metadata": {},
          "execution_count": 131
        }
      ]
    },
    {
      "cell_type": "code",
      "source": [
        "y_test.shape"
      ],
      "metadata": {
        "colab": {
          "base_uri": "https://localhost:8080/"
        },
        "id": "PTJvhYB_GCEK",
        "outputId": "71d6473c-bcbc-4e9d-d395-c0e318987881"
      },
      "execution_count": 132,
      "outputs": [
        {
          "output_type": "execute_result",
          "data": {
            "text/plain": [
              "(338,)"
            ]
          },
          "metadata": {},
          "execution_count": 132
        }
      ]
    },
    {
      "cell_type": "code",
      "source": [
        "x_train=x_train.reshape(x_train.shape[0],x_train.shape[1],1)\n",
        "x_test=x_test.reshape(x_test.shape[0],x_test.shape[1],1)"
      ],
      "metadata": {
        "id": "Bc2QEXjSGDh4"
      },
      "execution_count": 133,
      "outputs": []
    },
    {
      "cell_type": "code",
      "source": [
        "model=Sequential([\n",
        "    LSTM(50,return_sequences=True,input_shape=(100,1)),\n",
        "    LSTM(50,return_sequences=True),\n",
        "    LSTM(50),\n",
        "    Dense(20),\n",
        "    Dense(1)\n",
        "\n",
        "])\n",
        "\n",
        "model.compile(\n",
        "    loss='mean_squared_error',\n",
        "    optimizer='adam'\n",
        ")"
      ],
      "metadata": {
        "colab": {
          "base_uri": "https://localhost:8080/"
        },
        "id": "8dBdAT7MGXZt",
        "outputId": "76791a1c-9d87-420e-e3a7-c4ccc0c61d73"
      },
      "execution_count": 134,
      "outputs": [
        {
          "output_type": "stream",
          "name": "stderr",
          "text": [
            "/usr/local/lib/python3.12/dist-packages/keras/src/layers/rnn/rnn.py:199: UserWarning: Do not pass an `input_shape`/`input_dim` argument to a layer. When using Sequential models, prefer using an `Input(shape)` object as the first layer in the model instead.\n",
            "  super().__init__(**kwargs)\n"
          ]
        }
      ]
    },
    {
      "cell_type": "code",
      "source": [
        "model.summary()"
      ],
      "metadata": {
        "colab": {
          "base_uri": "https://localhost:8080/",
          "height": 289
        },
        "id": "nVS-CQ0NGzWj",
        "outputId": "85b885ac-c0f0-4ad4-b745-c7adbfef47b5"
      },
      "execution_count": 135,
      "outputs": [
        {
          "output_type": "display_data",
          "data": {
            "text/plain": [
              "\u001b[1mModel: \"sequential_2\"\u001b[0m\n"
            ],
            "text/html": [
              "<pre style=\"white-space:pre;overflow-x:auto;line-height:normal;font-family:Menlo,'DejaVu Sans Mono',consolas,'Courier New',monospace\"><span style=\"font-weight: bold\">Model: \"sequential_2\"</span>\n",
              "</pre>\n"
            ]
          },
          "metadata": {}
        },
        {
          "output_type": "display_data",
          "data": {
            "text/plain": [
              "┏━━━━━━━━━━━━━━━━━━━━━━━━━━━━━━━━━┳━━━━━━━━━━━━━━━━━━━━━━━━┳━━━━━━━━━━━━━━━┓\n",
              "┃\u001b[1m \u001b[0m\u001b[1mLayer (type)                   \u001b[0m\u001b[1m \u001b[0m┃\u001b[1m \u001b[0m\u001b[1mOutput Shape          \u001b[0m\u001b[1m \u001b[0m┃\u001b[1m \u001b[0m\u001b[1m      Param #\u001b[0m\u001b[1m \u001b[0m┃\n",
              "┡━━━━━━━━━━━━━━━━━━━━━━━━━━━━━━━━━╇━━━━━━━━━━━━━━━━━━━━━━━━╇━━━━━━━━━━━━━━━┩\n",
              "│ lstm_6 (\u001b[38;5;33mLSTM\u001b[0m)                   │ (\u001b[38;5;45mNone\u001b[0m, \u001b[38;5;34m100\u001b[0m, \u001b[38;5;34m50\u001b[0m)        │        \u001b[38;5;34m10,400\u001b[0m │\n",
              "├─────────────────────────────────┼────────────────────────┼───────────────┤\n",
              "│ lstm_7 (\u001b[38;5;33mLSTM\u001b[0m)                   │ (\u001b[38;5;45mNone\u001b[0m, \u001b[38;5;34m100\u001b[0m, \u001b[38;5;34m50\u001b[0m)        │        \u001b[38;5;34m20,200\u001b[0m │\n",
              "├─────────────────────────────────┼────────────────────────┼───────────────┤\n",
              "│ lstm_8 (\u001b[38;5;33mLSTM\u001b[0m)                   │ (\u001b[38;5;45mNone\u001b[0m, \u001b[38;5;34m50\u001b[0m)             │        \u001b[38;5;34m20,200\u001b[0m │\n",
              "├─────────────────────────────────┼────────────────────────┼───────────────┤\n",
              "│ dense_4 (\u001b[38;5;33mDense\u001b[0m)                 │ (\u001b[38;5;45mNone\u001b[0m, \u001b[38;5;34m20\u001b[0m)             │         \u001b[38;5;34m1,020\u001b[0m │\n",
              "├─────────────────────────────────┼────────────────────────┼───────────────┤\n",
              "│ dense_5 (\u001b[38;5;33mDense\u001b[0m)                 │ (\u001b[38;5;45mNone\u001b[0m, \u001b[38;5;34m1\u001b[0m)              │            \u001b[38;5;34m21\u001b[0m │\n",
              "└─────────────────────────────────┴────────────────────────┴───────────────┘\n"
            ],
            "text/html": [
              "<pre style=\"white-space:pre;overflow-x:auto;line-height:normal;font-family:Menlo,'DejaVu Sans Mono',consolas,'Courier New',monospace\">┏━━━━━━━━━━━━━━━━━━━━━━━━━━━━━━━━━┳━━━━━━━━━━━━━━━━━━━━━━━━┳━━━━━━━━━━━━━━━┓\n",
              "┃<span style=\"font-weight: bold\"> Layer (type)                    </span>┃<span style=\"font-weight: bold\"> Output Shape           </span>┃<span style=\"font-weight: bold\">       Param # </span>┃\n",
              "┡━━━━━━━━━━━━━━━━━━━━━━━━━━━━━━━━━╇━━━━━━━━━━━━━━━━━━━━━━━━╇━━━━━━━━━━━━━━━┩\n",
              "│ lstm_6 (<span style=\"color: #0087ff; text-decoration-color: #0087ff\">LSTM</span>)                   │ (<span style=\"color: #00d7ff; text-decoration-color: #00d7ff\">None</span>, <span style=\"color: #00af00; text-decoration-color: #00af00\">100</span>, <span style=\"color: #00af00; text-decoration-color: #00af00\">50</span>)        │        <span style=\"color: #00af00; text-decoration-color: #00af00\">10,400</span> │\n",
              "├─────────────────────────────────┼────────────────────────┼───────────────┤\n",
              "│ lstm_7 (<span style=\"color: #0087ff; text-decoration-color: #0087ff\">LSTM</span>)                   │ (<span style=\"color: #00d7ff; text-decoration-color: #00d7ff\">None</span>, <span style=\"color: #00af00; text-decoration-color: #00af00\">100</span>, <span style=\"color: #00af00; text-decoration-color: #00af00\">50</span>)        │        <span style=\"color: #00af00; text-decoration-color: #00af00\">20,200</span> │\n",
              "├─────────────────────────────────┼────────────────────────┼───────────────┤\n",
              "│ lstm_8 (<span style=\"color: #0087ff; text-decoration-color: #0087ff\">LSTM</span>)                   │ (<span style=\"color: #00d7ff; text-decoration-color: #00d7ff\">None</span>, <span style=\"color: #00af00; text-decoration-color: #00af00\">50</span>)             │        <span style=\"color: #00af00; text-decoration-color: #00af00\">20,200</span> │\n",
              "├─────────────────────────────────┼────────────────────────┼───────────────┤\n",
              "│ dense_4 (<span style=\"color: #0087ff; text-decoration-color: #0087ff\">Dense</span>)                 │ (<span style=\"color: #00d7ff; text-decoration-color: #00d7ff\">None</span>, <span style=\"color: #00af00; text-decoration-color: #00af00\">20</span>)             │         <span style=\"color: #00af00; text-decoration-color: #00af00\">1,020</span> │\n",
              "├─────────────────────────────────┼────────────────────────┼───────────────┤\n",
              "│ dense_5 (<span style=\"color: #0087ff; text-decoration-color: #0087ff\">Dense</span>)                 │ (<span style=\"color: #00d7ff; text-decoration-color: #00d7ff\">None</span>, <span style=\"color: #00af00; text-decoration-color: #00af00\">1</span>)              │            <span style=\"color: #00af00; text-decoration-color: #00af00\">21</span> │\n",
              "└─────────────────────────────────┴────────────────────────┴───────────────┘\n",
              "</pre>\n"
            ]
          },
          "metadata": {}
        },
        {
          "output_type": "display_data",
          "data": {
            "text/plain": [
              "\u001b[1m Total params: \u001b[0m\u001b[38;5;34m51,841\u001b[0m (202.50 KB)\n"
            ],
            "text/html": [
              "<pre style=\"white-space:pre;overflow-x:auto;line-height:normal;font-family:Menlo,'DejaVu Sans Mono',consolas,'Courier New',monospace\"><span style=\"font-weight: bold\"> Total params: </span><span style=\"color: #00af00; text-decoration-color: #00af00\">51,841</span> (202.50 KB)\n",
              "</pre>\n"
            ]
          },
          "metadata": {}
        },
        {
          "output_type": "display_data",
          "data": {
            "text/plain": [
              "\u001b[1m Trainable params: \u001b[0m\u001b[38;5;34m51,841\u001b[0m (202.50 KB)\n"
            ],
            "text/html": [
              "<pre style=\"white-space:pre;overflow-x:auto;line-height:normal;font-family:Menlo,'DejaVu Sans Mono',consolas,'Courier New',monospace\"><span style=\"font-weight: bold\"> Trainable params: </span><span style=\"color: #00af00; text-decoration-color: #00af00\">51,841</span> (202.50 KB)\n",
              "</pre>\n"
            ]
          },
          "metadata": {}
        },
        {
          "output_type": "display_data",
          "data": {
            "text/plain": [
              "\u001b[1m Non-trainable params: \u001b[0m\u001b[38;5;34m0\u001b[0m (0.00 B)\n"
            ],
            "text/html": [
              "<pre style=\"white-space:pre;overflow-x:auto;line-height:normal;font-family:Menlo,'DejaVu Sans Mono',consolas,'Courier New',monospace\"><span style=\"font-weight: bold\"> Non-trainable params: </span><span style=\"color: #00af00; text-decoration-color: #00af00\">0</span> (0.00 B)\n",
              "</pre>\n"
            ]
          },
          "metadata": {}
        }
      ]
    },
    {
      "cell_type": "code",
      "source": [
        "from tensorflow.keras.callbacks import EarlyStopping,ModelCheckpoint,ReduceLROnPlateau"
      ],
      "metadata": {
        "id": "G_Ib8eMmHQwF"
      },
      "execution_count": 136,
      "outputs": []
    },
    {
      "cell_type": "code",
      "source": [
        "e=EarlyStopping(monitor='val_loss',patience=10,mode='min')\n",
        "mc=ModelCheckpoint('stockPrice.keras',monitor='val_acc',verbose=1,save_best_only=True,mode='max')\n",
        "re=ReduceLROnPlateau(monitor='val_loss',factor=0.01,patience=10,verbose=1,mode='min')"
      ],
      "metadata": {
        "id": "SIPFgVJBHEiK"
      },
      "execution_count": 137,
      "outputs": []
    },
    {
      "cell_type": "code",
      "source": [
        "history=model.fit(x_train,y_train,validation_data=(x_test,y_test),epochs=100,batch_size=64,verbose=1,shuffle=False,callbacks=[e,mc,re])\n"
      ],
      "metadata": {
        "colab": {
          "base_uri": "https://localhost:8080/"
        },
        "id": "ILgIjK6XG1b2",
        "outputId": "bf72f174-b095-4f7e-9e12-d98a35e40e85"
      },
      "execution_count": 138,
      "outputs": [
        {
          "output_type": "stream",
          "name": "stdout",
          "text": [
            "Epoch 1/100\n",
            "\u001b[1m12/12\u001b[0m \u001b[32m━━━━━━━━━━━━━━━━━━━━\u001b[0m\u001b[37m\u001b[0m \u001b[1m8s\u001b[0m 254ms/step - loss: 0.0186 - val_loss: 0.0216 - learning_rate: 0.0010\n",
            "Epoch 2/100\n"
          ]
        },
        {
          "output_type": "stream",
          "name": "stderr",
          "text": [
            "/usr/local/lib/python3.12/dist-packages/keras/src/callbacks/model_checkpoint.py:302: UserWarning: Can save best model only with val_acc available.\n",
            "  if self._should_save_model(epoch, batch, logs, filepath):\n"
          ]
        },
        {
          "output_type": "stream",
          "name": "stdout",
          "text": [
            "\u001b[1m12/12\u001b[0m \u001b[32m━━━━━━━━━━━━━━━━━━━━\u001b[0m\u001b[37m\u001b[0m \u001b[1m3s\u001b[0m 224ms/step - loss: 0.0068 - val_loss: 0.0115 - learning_rate: 0.0010\n",
            "Epoch 3/100\n",
            "\u001b[1m12/12\u001b[0m \u001b[32m━━━━━━━━━━━━━━━━━━━━\u001b[0m\u001b[37m\u001b[0m \u001b[1m5s\u001b[0m 175ms/step - loss: 0.0068 - val_loss: 0.0136 - learning_rate: 0.0010\n",
            "Epoch 4/100\n",
            "\u001b[1m12/12\u001b[0m \u001b[32m━━━━━━━━━━━━━━━━━━━━\u001b[0m\u001b[37m\u001b[0m \u001b[1m3s\u001b[0m 180ms/step - loss: 0.0029 - val_loss: 0.0051 - learning_rate: 0.0010\n",
            "Epoch 5/100\n",
            "\u001b[1m12/12\u001b[0m \u001b[32m━━━━━━━━━━━━━━━━━━━━\u001b[0m\u001b[37m\u001b[0m \u001b[1m2s\u001b[0m 207ms/step - loss: 0.0020 - val_loss: 0.0044 - learning_rate: 0.0010\n",
            "Epoch 6/100\n",
            "\u001b[1m12/12\u001b[0m \u001b[32m━━━━━━━━━━━━━━━━━━━━\u001b[0m\u001b[37m\u001b[0m \u001b[1m3s\u001b[0m 224ms/step - loss: 0.0019 - val_loss: 0.0044 - learning_rate: 0.0010\n",
            "Epoch 7/100\n",
            "\u001b[1m12/12\u001b[0m \u001b[32m━━━━━━━━━━━━━━━━━━━━\u001b[0m\u001b[37m\u001b[0m \u001b[1m4s\u001b[0m 173ms/step - loss: 0.0020 - val_loss: 0.0044 - learning_rate: 0.0010\n",
            "Epoch 8/100\n",
            "\u001b[1m12/12\u001b[0m \u001b[32m━━━━━━━━━━━━━━━━━━━━\u001b[0m\u001b[37m\u001b[0m \u001b[1m3s\u001b[0m 171ms/step - loss: 0.0023 - val_loss: 0.0046 - learning_rate: 0.0010\n",
            "Epoch 9/100\n",
            "\u001b[1m12/12\u001b[0m \u001b[32m━━━━━━━━━━━━━━━━━━━━\u001b[0m\u001b[37m\u001b[0m \u001b[1m2s\u001b[0m 175ms/step - loss: 0.0026 - val_loss: 0.0050 - learning_rate: 0.0010\n",
            "Epoch 10/100\n",
            "\u001b[1m12/12\u001b[0m \u001b[32m━━━━━━━━━━━━━━━━━━━━\u001b[0m\u001b[37m\u001b[0m \u001b[1m3s\u001b[0m 248ms/step - loss: 0.0026 - val_loss: 0.0050 - learning_rate: 0.0010\n",
            "Epoch 11/100\n",
            "\u001b[1m12/12\u001b[0m \u001b[32m━━━━━━━━━━━━━━━━━━━━\u001b[0m\u001b[37m\u001b[0m \u001b[1m2s\u001b[0m 171ms/step - loss: 0.0024 - val_loss: 0.0049 - learning_rate: 0.0010\n",
            "Epoch 12/100\n",
            "\u001b[1m12/12\u001b[0m \u001b[32m━━━━━━━━━━━━━━━━━━━━\u001b[0m\u001b[37m\u001b[0m \u001b[1m2s\u001b[0m 172ms/step - loss: 0.0021 - val_loss: 0.0049 - learning_rate: 0.0010\n",
            "Epoch 13/100\n",
            "\u001b[1m12/12\u001b[0m \u001b[32m━━━━━━━━━━━━━━━━━━━━\u001b[0m\u001b[37m\u001b[0m \u001b[1m2s\u001b[0m 173ms/step - loss: 0.0019 - val_loss: 0.0050 - learning_rate: 0.0010\n",
            "Epoch 14/100\n",
            "\u001b[1m12/12\u001b[0m \u001b[32m━━━━━━━━━━━━━━━━━━━━\u001b[0m\u001b[37m\u001b[0m \u001b[1m3s\u001b[0m 175ms/step - loss: 0.0018 - val_loss: 0.0053 - learning_rate: 0.0010\n",
            "Epoch 15/100\n",
            "\u001b[1m12/12\u001b[0m \u001b[32m━━━━━━━━━━━━━━━━━━━━\u001b[0m\u001b[37m\u001b[0m \u001b[1m0s\u001b[0m 197ms/step - loss: 0.0018\n",
            "Epoch 15: ReduceLROnPlateau reducing learning rate to 1.0000000474974514e-05.\n",
            "\u001b[1m12/12\u001b[0m \u001b[32m━━━━━━━━━━━━━━━━━━━━\u001b[0m\u001b[37m\u001b[0m \u001b[1m3s\u001b[0m 264ms/step - loss: 0.0019 - val_loss: 0.0059 - learning_rate: 0.0010\n"
          ]
        }
      ]
    },
    {
      "cell_type": "code",
      "source": [
        "plt.figure(figsize=(10, 5))\n",
        "plt.plot(history.history['loss'], label='Training Loss')\n",
        "plt.plot(history.history['val_loss'], label='Validation Loss')\n",
        "plt.xlabel('Epoch')\n",
        "plt.ylabel('Loss')\n",
        "plt.legend()"
      ],
      "metadata": {
        "colab": {
          "base_uri": "https://localhost:8080/",
          "height": 485
        },
        "id": "zTg_VkewHVZ2",
        "outputId": "8b2d956e-8f8c-4a87-b01a-35d2caef537e"
      },
      "execution_count": 139,
      "outputs": [
        {
          "output_type": "execute_result",
          "data": {
            "text/plain": [
              "<matplotlib.legend.Legend at 0x7ea6262b8260>"
            ]
          },
          "metadata": {},
          "execution_count": 139
        },
        {
          "output_type": "display_data",
          "data": {
            "text/plain": [
              "<Figure size 1000x500 with 1 Axes>"
            ],
            "image/png": "[encoded data removed]"
          },
          "metadata": {}
        }
      ]
    },
    {
      "cell_type": "code",
      "source": [
        "  train_predict=model.predict(x_train)\n",
        "  test_predict=model.predict(x_test)"
      ],
      "metadata": {
        "colab": {
          "base_uri": "https://localhost:8080/"
        },
        "id": "EMyvtTFXHudk",
        "outputId": "22285057-08f3-4459-e60d-babccb975340"
      },
      "execution_count": 140,
      "outputs": [
        {
          "output_type": "stream",
          "name": "stdout",
          "text": [
            "\u001b[1m23/23\u001b[0m \u001b[32m━━━━━━━━━━━━━━━━━━━━\u001b[0m\u001b[37m\u001b[0m \u001b[1m2s\u001b[0m 51ms/step\n",
            "\u001b[1m11/11\u001b[0m \u001b[32m━━━━━━━━━━━━━━━━━━━━\u001b[0m\u001b[37m\u001b[0m \u001b[1m0s\u001b[0m 31ms/step\n"
          ]
        }
      ]
    },
    {
      "cell_type": "code",
      "source": [
        "train_predict=m.inverse_transform(train_predict)\n",
        "test_predict=m.inverse_transform(test_predict)"
      ],
      "metadata": {
        "id": "ZAKRe578H_Aj"
      },
      "execution_count": 141,
      "outputs": []
    },
    {
      "cell_type": "code",
      "source": [
        "import math\n",
        "from sklearn.metrics import mean_squared_error\n",
        "math.sqrt(mean_squared_error(y_train,train_predict))"
      ],
      "metadata": {
        "colab": {
          "base_uri": "https://localhost:8080/"
        },
        "id": "utuSXb-HIHRy",
        "outputId": "1bc1c2f3-6afe-49da-f7e1-ab3d66614031"
      },
      "execution_count": 142,
      "outputs": [
        {
          "output_type": "execute_result",
          "data": {
            "text/plain": [
              "160.22968967062673"
            ]
          },
          "metadata": {},
          "execution_count": 142
        }
      ]
    },
    {
      "cell_type": "code",
      "source": [
        "math.sqrt(mean_squared_error(y_test,test_predict))"
      ],
      "metadata": {
        "colab": {
          "base_uri": "https://localhost:8080/"
        },
        "id": "LtlxtR6gIy2M",
        "outputId": "001a8f34-552d-4197-cf22-1628fad8aec4"
      },
      "execution_count": 143,
      "outputs": [
        {
          "output_type": "execute_result",
          "data": {
            "text/plain": [
              "232.29209051036474"
            ]
          },
          "metadata": {},
          "execution_count": 143
        }
      ]
    },
    {
      "cell_type": "code",
      "source": [
        "import numpy"
      ],
      "metadata": {
        "id": "fwh91MzKJoan"
      },
      "execution_count": 144,
      "outputs": []
    },
    {
      "cell_type": "code",
      "source": [
        "from sklearn.preprocessing import MinMaxScaler"
      ],
      "metadata": {
        "id": "uJbSOzGbJqmP"
      },
      "execution_count": 145,
      "outputs": []
    },
    {
      "cell_type": "code",
      "source": [
        "look_back=100\n",
        "trainPredictPlot = np.empty_like(df1)\n",
        "trainPredictPlot[:, :] = np.nan\n",
        "trainPredictPlot[look_back:len(train_predict)+look_back, :] = train_predict\n",
        "# shift test predictions for plotting\n",
        "testPredictPlot = np.empty_like(df1)\n",
        "testPredictPlot[:, :] = np.nan\n",
        "testPredictPlot[len(train_predict)+(look_back*2)+1:len(df1)-1, :] = test_predict\n",
        "testPredictPlot=numpy.empty_like(df1)\n",
        "testPredictPlot[:,:]=numpy.nan\n",
        "testPredictPlot[len(train_predict)+(look_back*2)+1:len(df1)-1,:]=test_predict\n",
        "plt.plot(m.inverse_transform(df1))\n",
        "plt.plot(trainPredictPlot)\n",
        "plt.plot(testPredictPlot)"
      ],
      "metadata": {
        "colab": {
          "base_uri": "https://localhost:8080/",
          "height": 447
        },
        "id": "3OXNiiD6ImFq",
        "outputId": "340f9d11-2195-47be-ba51-1ad9cc8d9f11"
      },
      "execution_count": 146,
      "outputs": [
        {
          "output_type": "execute_result",
          "data": {
            "text/plain": [
              "[<matplotlib.lines.Line2D at 0x7ea605d189e0>]"
            ]
          },
          "metadata": {},
          "execution_count": 146
        },
        {
          "output_type": "display_data",
          "data": {
            "text/plain": [
              "<Figure size 640x480 with 1 Axes>"
            ],
            "image/png": "[encoded data removed]"
          },
          "metadata": {}
        }
      ]
    },
    {
      "cell_type": "code",
      "source": [
        "\n",
        "last_100_days = train_data[-100:]"
      ],
      "metadata": {
        "id": "noRsNAqSIrjV"
      },
      "execution_count": 159,
      "outputs": []
    },
    {
      "cell_type": "code",
      "source": [
        "X_test_explicit = last_100_days.reshape(1, 100, 1)"
      ],
      "metadata": {
        "id": "0b0jFLG5LFsP"
      },
      "execution_count": 160,
      "outputs": []
    },
    {
      "cell_type": "code",
      "source": [
        "predicted_scaled_price = model.predict(X_test_explicit)"
      ],
      "metadata": {
        "colab": {
          "base_uri": "https://localhost:8080/"
        },
        "id": "B11QBiJELJ-3",
        "outputId": "c302597f-1339-45b1-d31e-e5d648b5bf6e"
      },
      "execution_count": 161,
      "outputs": [
        {
          "output_type": "stream",
          "name": "stdout",
          "text": [
            "\u001b[1m1/1\u001b[0m \u001b[32m━━━━━━━━━━━━━━━━━━━━\u001b[0m\u001b[37m\u001b[0m \u001b[1m0s\u001b[0m 56ms/step\n"
          ]
        }
      ]
    },
    {
      "cell_type": "code",
      "source": [
        "from sklearn.preprocessing import MinMaxScaler"
      ],
      "metadata": {
        "id": "887COUJiLOV_"
      },
      "execution_count": 162,
      "outputs": []
    },
    {
      "cell_type": "code",
      "source": [
        "predicted_actual_price = m.inverse_transform(predicted_scaled_price)"
      ],
      "metadata": {
        "id": "GjsTUzEuLLcR"
      },
      "execution_count": 163,
      "outputs": []
    },
    {
      "cell_type": "code",
      "source": [
        "predicted_actual_price"
      ],
      "metadata": {
        "colab": {
          "base_uri": "https://localhost:8080/"
        },
        "id": "KrYQ7KlfLM4L",
        "outputId": "ff08a2f4-a4e3-4c6b-e10a-1238188cc4e5"
      },
      "execution_count": 164,
      "outputs": [
        {
          "output_type": "execute_result",
          "data": {
            "text/plain": [
              "array([[191.52487]], dtype=float32)"
            ]
          },
          "metadata": {},
          "execution_count": 164
        }
      ]
    },
    {
      "cell_type": "code",
      "source": [],
      "metadata": {
        "id": "dtjcvFyqLaY1"
      },
      "execution_count": null,
      "outputs": []
    }
  ]
}